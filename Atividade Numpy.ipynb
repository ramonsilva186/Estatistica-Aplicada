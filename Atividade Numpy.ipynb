{
 "cells": [
  {
   "cell_type": "code",
   "execution_count": 2,
   "metadata": {},
   "outputs": [],
   "source": [
    "import numpy as np"
   ]
  },
  {
   "cell_type": "markdown",
   "metadata": {},
   "source": [
    "## Exercicio 1"
   ]
  },
  {
   "cell_type": "code",
   "execution_count": 3,
   "metadata": {},
   "outputs": [],
   "source": [
    "# from numpy import 'modulo especifico'\n",
    "# import numpy\n",
    "# import *\n",
    "# from numpy import *"
   ]
  },
  {
   "cell_type": "markdown",
   "metadata": {},
   "source": [
    "## Exercicio 2"
   ]
  },
  {
   "cell_type": "code",
   "execution_count": 15,
   "metadata": {},
   "outputs": [
    {
     "data": {
      "text/plain": [
       "array([-2. ,  4.3,  7. ,  9. ])"
      ]
     },
     "execution_count": 15,
     "metadata": {},
     "output_type": "execute_result"
    }
   ],
   "source": [
    "lista1 = np.array([-2, 4.3, 7, 9]) # Se tiver flutuante, ele transforma tudo em flutuante\n",
    "tup = (8, -5, 0, 3.2) # Se tiver flutuante, ele transforma tudo em flutuante\n",
    "\n",
    "lista2 = np.array(tup)\n",
    "\n",
    "lista1"
   ]
  },
  {
   "cell_type": "code",
   "execution_count": 16,
   "metadata": {},
   "outputs": [
    {
     "data": {
      "text/plain": [
       "array([ 8. , -5. ,  0. ,  3.2])"
      ]
     },
     "execution_count": 16,
     "metadata": {},
     "output_type": "execute_result"
    }
   ],
   "source": [
    "lista2"
   ]
  },
  {
   "cell_type": "markdown",
   "metadata": {},
   "source": [
    "## Exercicio 3"
   ]
  },
  {
   "cell_type": "code",
   "execution_count": 20,
   "metadata": {},
   "outputs": [],
   "source": [
    "# Se colocarmos uma string no meio da lista(array), ele vai transformar tudo em string"
   ]
  },
  {
   "cell_type": "code",
   "execution_count": 24,
   "metadata": {},
   "outputs": [
    {
     "data": {
      "text/plain": [
       "array(['-2', 's', '7', '9'], dtype='<U11')"
      ]
     },
     "execution_count": 24,
     "metadata": {},
     "output_type": "execute_result"
    }
   ],
   "source": [
    "lista3 = np.array([-2, 's', 7, 9])\n",
    "lista3"
   ]
  },
  {
   "cell_type": "code",
   "execution_count": 19,
   "metadata": {},
   "outputs": [
    {
     "name": "stdout",
     "output_type": "stream",
     "text": [
      "[0 1 2 3 4 5 6 7 8 9] \n",
      "\n",
      "[[ 1  3  5  7]\n",
      " [ 9 11 13 15]\n",
      " [17 19 21 23]\n",
      " [25 27 29 31]]\n"
     ]
    }
   ],
   "source": [
    "lista1 = np.arange(10) #Cria uma lista de 10 elementos (0-9)\n",
    "print(lista1, '\\n')\n",
    "\n",
    "lista2 = np.arange(1, 32, 2).reshape(4, 4) #Cria uma matriz com valores de 1 a (32-1) de 2 em 2 valores\n",
    "print(lista2)"
   ]
  },
  {
   "cell_type": "code",
   "execution_count": 25,
   "metadata": {},
   "outputs": [
    {
     "name": "stdout",
     "output_type": "stream",
     "text": [
      "[  1.  12.  23.  34.  45.  56.  67.  78.  89. 100.] \n",
      "\n"
     ]
    }
   ],
   "source": [
    "lista1 = np.linspace(1, 100, 10) # de 1 a 100, contendo 10 valores\n",
    "print(lista1, '\\n')"
   ]
  },
  {
   "cell_type": "markdown",
   "metadata": {},
   "source": [
    "## Exercicio 4"
   ]
  },
  {
   "cell_type": "code",
   "execution_count": 26,
   "metadata": {},
   "outputs": [],
   "source": [
    "# Basicamente o \"arange\" gera valores no intervalo sem incluir o ultimo \n",
    "# Já o \"linspace\" gera os valores no intervalo e inclui o ultimo elemento"
   ]
  },
  {
   "cell_type": "code",
   "execution_count": 28,
   "metadata": {},
   "outputs": [
    {
     "name": "stdout",
     "output_type": "stream",
     "text": [
      "[[6.23042070e-307 4.67296746e-307 1.69121096e-306 1.29060871e-306]\n",
      " [1.89146896e-307 1.37961302e-306 1.05699242e-307 8.01097889e-307]\n",
      " [1.78020169e-306 7.56601165e-307 1.02359984e-306 1.33510679e-306]\n",
      " [2.22522597e-306 8.01097889e-307 1.42417629e-306 8.45593934e-307]\n",
      " [6.89805151e-307 9.34611148e-307 1.37961709e-306 1.42418172e-306]\n",
      " [1.37961641e-306 1.27946076e-307 8.45610231e-307 6.01347002e-154]] \n",
      "\n",
      "[[1. 0. 0. 0.]\n",
      " [0. 1. 0. 0.]\n",
      " [0. 0. 1. 0.]\n",
      " [0. 0. 0. 1.]]\n"
     ]
    }
   ],
   "source": [
    "lista2 = np.empty((6,4)) # normalmente a saída é lixo de memória ou zeros\n",
    "print(lista2, '\\n')\n",
    "\n",
    "lista4 = np.eye(4) # eye cria uma array de duas dimensões com 1 na da diagnoal e 0 nos outro\n",
    "print(lista4)"
   ]
  },
  {
   "cell_type": "code",
   "execution_count": 29,
   "metadata": {},
   "outputs": [
    {
     "name": "stdout",
     "output_type": "stream",
     "text": [
      "[0. 0. 0. 0. 0. 0. 0. 0.]\n",
      "[[1. 1. 1.]\n",
      " [1. 1. 1.]\n",
      " [1. 1. 1.]\n",
      " [1. 1. 1.]]\n"
     ]
    }
   ],
   "source": [
    "lista1 = np.zeros(8) # array contendo 8 'zeros'\n",
    "print (lista1)\n",
    "lista2 = np.ones((4,3)) # array contendo 12 'uns', no formato 4 x 3\n",
    "print(lista2)"
   ]
  },
  {
   "cell_type": "markdown",
   "metadata": {},
   "source": [
    "## Exercicio 5"
   ]
  },
  {
   "cell_type": "code",
   "execution_count": 30,
   "metadata": {},
   "outputs": [
    {
     "name": "stdout",
     "output_type": "stream",
     "text": [
      ".shape:  (10,)\n",
      ".size:  10\n",
      ".dtype:  float64\n"
     ]
    }
   ],
   "source": [
    "lista1 = np.linspace(.5, 50, 10)\n",
    "print('.shape: ', lista1.shape) # imprime o formato da array\n",
    "print('.size: ', lista1.size) # imprime o tamanho da array\n",
    "print('.dtype: ', lista1.dtype) # imprime o tipo de dado dos elementos"
   ]
  },
  {
   "cell_type": "code",
   "execution_count": 31,
   "metadata": {},
   "outputs": [
    {
     "name": "stdout",
     "output_type": "stream",
     "text": [
      ".ndim:  1\n",
      ".itemsize:  10\n"
     ]
    }
   ],
   "source": [
    "print('.ndim: ', lista1.ndim) # número de dimensões\n",
    "print('.itemsize: ', lista1.size) # tamanho de cada elemento em bytes"
   ]
  },
  {
   "cell_type": "code",
   "execution_count": null,
   "metadata": {},
   "outputs": [],
   "source": []
  }
 ],
 "metadata": {
  "kernelspec": {
   "display_name": "Python 3",
   "language": "python",
   "name": "python3"
  },
  "language_info": {
   "codemirror_mode": {
    "name": "ipython",
    "version": 3
   },
   "file_extension": ".py",
   "mimetype": "text/x-python",
   "name": "python",
   "nbconvert_exporter": "python",
   "pygments_lexer": "ipython3",
   "version": "3.7.1"
  }
 },
 "nbformat": 4,
 "nbformat_minor": 2
}
