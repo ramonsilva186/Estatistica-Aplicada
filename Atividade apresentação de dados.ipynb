{
 "cells": [
  {
   "cell_type": "code",
   "execution_count": 2,
   "metadata": {},
   "outputs": [],
   "source": [
    "import numpy as np\n",
    "import pandas as pd\n",
    "import matplotlib.pyplot as plt\n",
    "%matplotlib inline"
   ]
  },
  {
   "cell_type": "markdown",
   "metadata": {},
   "source": [
    "# Aula 1"
   ]
  },
  {
   "cell_type": "markdown",
   "metadata": {},
   "source": [
    "#### Atividade 1.2"
   ]
  },
  {
   "cell_type": "code",
   "execution_count": 3,
   "metadata": {},
   "outputs": [],
   "source": [
    "Sexo =['M', 'F', 'F', 'M', 'M', 'M', 'F', 'F',\n",
    "       'M', 'M', 'M', 'M', 'M', 'F', 'M', 'M',\n",
    "       'F', 'F', 'M', 'M', 'M', 'F', 'F']\n",
    "\n",
    "df = pd.DataFrame({'Sexo' : Sexo})"
   ]
  },
  {
   "cell_type": "code",
   "execution_count": 5,
   "metadata": {},
   "outputs": [
    {
     "data": {
      "text/plain": [
       "M    14\n",
       "F     9\n",
       "Name: Sexo, dtype: int64"
      ]
     },
     "execution_count": 5,
     "metadata": {},
     "output_type": "execute_result"
    }
   ],
   "source": [
    "fi = df['Sexo'].value_counts()\n",
    "fi"
   ]
  },
  {
   "cell_type": "code",
   "execution_count": 6,
   "metadata": {},
   "outputs": [
    {
     "data": {
      "text/plain": [
       "M    60.87\n",
       "F    39.13\n",
       "Name: Sexo, dtype: float64"
      ]
     },
     "execution_count": 6,
     "metadata": {},
     "output_type": "execute_result"
    }
   ],
   "source": [
    "fr = round(df['Sexo'].value_counts(normalize=True) * 100, 2)\n",
    "fr"
   ]
  },
  {
   "cell_type": "code",
   "execution_count": 9,
   "metadata": {},
   "outputs": [
    {
     "data": {
      "text/html": [
       "<div>\n",
       "<style scoped>\n",
       "    .dataframe tbody tr th:only-of-type {\n",
       "        vertical-align: middle;\n",
       "    }\n",
       "\n",
       "    .dataframe tbody tr th {\n",
       "        vertical-align: top;\n",
       "    }\n",
       "\n",
       "    .dataframe thead th {\n",
       "        text-align: right;\n",
       "    }\n",
       "</style>\n",
       "<table border=\"1\" class=\"dataframe\">\n",
       "  <thead>\n",
       "    <tr style=\"text-align: right;\">\n",
       "      <th></th>\n",
       "      <th>Freq Absoluta</th>\n",
       "      <th>Freq Relativa %</th>\n",
       "    </tr>\n",
       "    <tr>\n",
       "      <th>Sexo</th>\n",
       "      <th></th>\n",
       "      <th></th>\n",
       "    </tr>\n",
       "  </thead>\n",
       "  <tbody>\n",
       "    <tr>\n",
       "      <th>Masculino</th>\n",
       "      <td>14</td>\n",
       "      <td>60.87</td>\n",
       "    </tr>\n",
       "    <tr>\n",
       "      <th>Feminino</th>\n",
       "      <td>9</td>\n",
       "      <td>39.13</td>\n",
       "    </tr>\n",
       "    <tr>\n",
       "      <th>Total</th>\n",
       "      <td>23</td>\n",
       "      <td>100.00</td>\n",
       "    </tr>\n",
       "  </tbody>\n",
       "</table>\n",
       "</div>"
      ],
      "text/plain": [
       "           Freq Absoluta  Freq Relativa %\n",
       "Sexo                                     \n",
       "Masculino             14            60.87\n",
       "Feminino               9            39.13\n",
       "Total                 23           100.00"
      ]
     },
     "execution_count": 9,
     "metadata": {},
     "output_type": "execute_result"
    }
   ],
   "source": [
    "df1 = pd.DataFrame({'Sexo': ['Masculino', 'Feminino', 'Total'],\n",
    "                    'Freq Absoluta': [fi.max(), fi.min(), sum(fi)],\n",
    "                    'Freq Relativa %': [fr.max(), fr.min(), sum(fr)]})\n",
    "df1.set_index('Sexo')"
   ]
  },
  {
   "cell_type": "markdown",
   "metadata": {},
   "source": [
    "#### Atividade 1.3"
   ]
  },
  {
   "cell_type": "code",
   "execution_count": 56,
   "metadata": {},
   "outputs": [
    {
     "data": {
      "image/png": "[encoded data removed]",
      "text/plain": [
       "<Figure size 432x288 with 1 Axes>"
      ]
     },
     "metadata": {},
     "output_type": "display_data"
    }
   ],
   "source": [
    "labels = 'Masculino', 'Feminino'\n",
    "percentual = [fr[0], fr[1]]\n",
    "\n",
    "a = plt.subplot()\n",
    "\n",
    "a.pie(percentual, labels=labels, colors=['b', 'g'], autopct='%1.2f%%', startangle=90)\n",
    "\n",
    "plt.show()"
   ]
  },
  {
   "cell_type": "code",
   "execution_count": 45,
   "metadata": {},
   "outputs": [
    {
     "data": {
      "image/png": "[encoded data removed]",
      "text/plain": [
       "<Figure size 432x288 with 1 Axes>"
      ]
     },
     "metadata": {
      "needs_background": "light"
     },
     "output_type": "display_data"
    }
   ],
   "source": [
    "masc = [fi[0]] #14\n",
    "fem = [fi[1]]  #9\n",
    "arr = masc + fem #Array com os dois\n",
    "\n",
    "barra = 0.5 # largura\n",
    "\n",
    "r1 = [1]\n",
    "r2 = [2]\n",
    "r3 = r1 + r2\n",
    "\n",
    "plt.bar(r1, bars1, width = barra, color = 'r', label='Masculino')\n",
    "plt.bar(r2, bars2, width = barra, color = 'b', label='Feminino')\n",
    "\n",
    "plt.xticks([r + 1 for r in range(len(r3))], \n",
    "           ['Masculino', 'Feminino'])\n",
    "\n",
    "for i in range(len(r3)):\n",
    "    plt.text(x = r3[i]-0.02 , y = arr[i]+0.2, s = arr[i], size = 10)\n"
   ]
  },
  {
   "cell_type": "markdown",
   "metadata": {},
   "source": [
    "#### Atividade 1.4"
   ]
  },
  {
   "cell_type": "code",
   "execution_count": null,
   "metadata": {},
   "outputs": [],
   "source": []
  },
  {
   "cell_type": "markdown",
   "metadata": {},
   "source": [
    "# Aula 2"
   ]
  },
  {
   "cell_type": "markdown",
   "metadata": {},
   "source": [
    "#### Atividade 2.1"
   ]
  },
  {
   "cell_type": "code",
   "execution_count": 57,
   "metadata": {},
   "outputs": [
    {
     "data": {
      "text/html": [
       "<div>\n",
       "<style scoped>\n",
       "    .dataframe tbody tr th:only-of-type {\n",
       "        vertical-align: middle;\n",
       "    }\n",
       "\n",
       "    .dataframe tbody tr th {\n",
       "        vertical-align: top;\n",
       "    }\n",
       "\n",
       "    .dataframe thead th {\n",
       "        text-align: right;\n",
       "    }\n",
       "</style>\n",
       "<table border=\"1\" class=\"dataframe\">\n",
       "  <thead>\n",
       "    <tr style=\"text-align: right;\">\n",
       "      <th></th>\n",
       "      <th>Nome</th>\n",
       "      <th>Idade</th>\n",
       "      <th>Salário</th>\n",
       "    </tr>\n",
       "  </thead>\n",
       "  <tbody>\n",
       "    <tr>\n",
       "      <th>0</th>\n",
       "      <td>João da Silva</td>\n",
       "      <td>36</td>\n",
       "      <td>6300</td>\n",
       "    </tr>\n",
       "    <tr>\n",
       "      <th>1</th>\n",
       "      <td>Pedro Fernandes</td>\n",
       "      <td>51</td>\n",
       "      <td>5700</td>\n",
       "    </tr>\n",
       "    <tr>\n",
       "      <th>2</th>\n",
       "      <td>Maria Freitas</td>\n",
       "      <td>26</td>\n",
       "      <td>4500</td>\n",
       "    </tr>\n",
       "    <tr>\n",
       "      <th>3</th>\n",
       "      <td>Paula Gonçalves</td>\n",
       "      <td>25</td>\n",
       "      <td>3800</td>\n",
       "    </tr>\n",
       "    <tr>\n",
       "      <th>4</th>\n",
       "      <td>Ana Freitas</td>\n",
       "      <td>29</td>\n",
       "      <td>3200</td>\n",
       "    </tr>\n",
       "    <tr>\n",
       "      <th>5</th>\n",
       "      <td>Luiz Costa</td>\n",
       "      <td>53</td>\n",
       "      <td>7300</td>\n",
       "    </tr>\n",
       "    <tr>\n",
       "      <th>6</th>\n",
       "      <td>André Souza</td>\n",
       "      <td>42</td>\n",
       "      <td>7100</td>\n",
       "    </tr>\n",
       "    <tr>\n",
       "      <th>7</th>\n",
       "      <td>Patrícia Silva</td>\n",
       "      <td>38</td>\n",
       "      <td>5600</td>\n",
       "    </tr>\n",
       "    <tr>\n",
       "      <th>8</th>\n",
       "      <td>Regina Lima</td>\n",
       "      <td>35</td>\n",
       "      <td>6400</td>\n",
       "    </tr>\n",
       "    <tr>\n",
       "      <th>9</th>\n",
       "      <td>Alfredo Souza</td>\n",
       "      <td>45</td>\n",
       "      <td>7000</td>\n",
       "    </tr>\n",
       "    <tr>\n",
       "      <th>10</th>\n",
       "      <td>Margarete Cunha</td>\n",
       "      <td>26</td>\n",
       "      <td>3700</td>\n",
       "    </tr>\n",
       "    <tr>\n",
       "      <th>11</th>\n",
       "      <td>Pedro Barbosa</td>\n",
       "      <td>37</td>\n",
       "      <td>6500</td>\n",
       "    </tr>\n",
       "    <tr>\n",
       "      <th>12</th>\n",
       "      <td>Ricardo Alves</td>\n",
       "      <td>24</td>\n",
       "      <td>4000</td>\n",
       "    </tr>\n",
       "    <tr>\n",
       "      <th>13</th>\n",
       "      <td>Márcio Rezende</td>\n",
       "      <td>31</td>\n",
       "      <td>5100</td>\n",
       "    </tr>\n",
       "    <tr>\n",
       "      <th>14</th>\n",
       "      <td>Ana Carolina Chaves</td>\n",
       "      <td>29</td>\n",
       "      <td>4500</td>\n",
       "    </tr>\n",
       "  </tbody>\n",
       "</table>\n",
       "</div>"
      ],
      "text/plain": [
       "                   Nome  Idade  Salário\n",
       "0         João da Silva     36     6300\n",
       "1       Pedro Fernandes     51     5700\n",
       "2         Maria Freitas     26     4500\n",
       "3       Paula Gonçalves     25     3800\n",
       "4           Ana Freitas     29     3200\n",
       "5            Luiz Costa     53     7300\n",
       "6           André Souza     42     7100\n",
       "7        Patrícia Silva     38     5600\n",
       "8           Regina Lima     35     6400\n",
       "9         Alfredo Souza     45     7000\n",
       "10      Margarete Cunha     26     3700\n",
       "11        Pedro Barbosa     37     6500\n",
       "12        Ricardo Alves     24     4000\n",
       "13       Márcio Rezende     31     5100\n",
       "14  Ana Carolina Chaves     29     4500"
      ]
     },
     "execution_count": 57,
     "metadata": {},
     "output_type": "execute_result"
    }
   ],
   "source": [
    "nomes = ['João da Silva', 'Pedro Fernandes', 'Maria Freitas', 'Paula Gonçalves', 'Ana Freitas', 'Luiz Costa', 'André Souza', 'Patrícia Silva', 'Regina Lima', 'Alfredo Souza', 'Margarete Cunha', 'Pedro Barbosa', 'Ricardo Alves', 'Márcio Rezende', 'Ana Carolina Chaves']\n",
    "idades = [36, 51, 26, 25, 29, 53, 42, 38, 35, 45, 26, 37, 24, 31, 29]\n",
    "salarios = [6300, 5700, 4500, 3800, 3200, 7300, 7100, 5600, 6400, 7000, 3700, 6500, 4000, 5100, 4500]\n",
    "\n",
    "df = pd.DataFrame({'Nome': nomes, 'Idade': idades, 'Salário': salarios})\n",
    "df"
   ]
  },
  {
   "cell_type": "code",
   "execution_count": 59,
   "metadata": {},
   "outputs": [
    {
     "data": {
      "text/plain": [
       "array([6, 2, 3, 2, 2])"
      ]
     },
     "execution_count": 59,
     "metadata": {},
     "output_type": "execute_result"
    }
   ],
   "source": [
    "fi, classes = np.histogram(df.Idade, bins='sturges')\n",
    "fi"
   ]
  },
  {
   "cell_type": "code",
   "execution_count": 60,
   "metadata": {},
   "outputs": [
    {
     "data": {
      "text/plain": [
       "array([40.  , 13.33, 20.  , 13.33, 13.33])"
      ]
     },
     "execution_count": 60,
     "metadata": {},
     "output_type": "execute_result"
    }
   ],
   "source": [
    "fr = np.round(fi*100/len(df.Idade), 2)\n",
    "fr"
   ]
  },
  {
   "cell_type": "code",
   "execution_count": 61,
   "metadata": {},
   "outputs": [
    {
     "data": {
      "text/plain": [
       "array([ 6,  8, 11, 13, 15])"
      ]
     },
     "execution_count": 61,
     "metadata": {},
     "output_type": "execute_result"
    }
   ],
   "source": [
    "F = fi.cumsum()\n",
    "F"
   ]
  },
  {
   "cell_type": "code",
   "execution_count": 63,
   "metadata": {},
   "outputs": [
    {
     "data": {
      "text/plain": [
       "array([40.  , 53.33, 73.33, 86.66, 99.99])"
      ]
     },
     "execution_count": 63,
     "metadata": {},
     "output_type": "execute_result"
    }
   ],
   "source": [
    "Fa = fr.cumsum()\n",
    "Fa"
   ]
  },
  {
   "cell_type": "code",
   "execution_count": 64,
   "metadata": {},
   "outputs": [
    {
     "data": {
      "text/plain": [
       "['24.0 |-- 29.8',\n",
       " '29.8 |-- 35.6',\n",
       " '35.6 |-- 41.4',\n",
       " '41.4 |-- 47.2',\n",
       " '47.2 |-- 53.0']"
      ]
     },
     "execution_count": 64,
     "metadata": {},
     "output_type": "execute_result"
    }
   ],
   "source": [
    "classe = []\n",
    "for i in range(len(classes)):\n",
    "    if i <= len(classes)-2:\n",
    "        a = str(round(classes[i],2))\n",
    "        b = str(round(classes[i+1],2))\n",
    "    else:\n",
    "        break\n",
    "    classe.append(a+' |-- '+b)\n",
    "\n",
    "classe"
   ]
  },
  {
   "cell_type": "code",
   "execution_count": 65,
   "metadata": {},
   "outputs": [
    {
     "data": {
      "text/html": [
       "<div>\n",
       "<style scoped>\n",
       "    .dataframe tbody tr th:only-of-type {\n",
       "        vertical-align: middle;\n",
       "    }\n",
       "\n",
       "    .dataframe tbody tr th {\n",
       "        vertical-align: top;\n",
       "    }\n",
       "\n",
       "    .dataframe thead th {\n",
       "        text-align: right;\n",
       "    }\n",
       "</style>\n",
       "<table border=\"1\" class=\"dataframe\">\n",
       "  <thead>\n",
       "    <tr style=\"text-align: right;\">\n",
       "      <th></th>\n",
       "      <th>Faixa Etária</th>\n",
       "      <th>Frequencia Absoluta</th>\n",
       "      <th>Frequencia Relativa</th>\n",
       "      <th>Acumulada Absoluta</th>\n",
       "      <th>Acumulada Relativa</th>\n",
       "    </tr>\n",
       "  </thead>\n",
       "  <tbody>\n",
       "    <tr>\n",
       "      <th>0</th>\n",
       "      <td>24.0 |-- 29.8</td>\n",
       "      <td>6</td>\n",
       "      <td>40.00</td>\n",
       "      <td>6</td>\n",
       "      <td>40.00</td>\n",
       "    </tr>\n",
       "    <tr>\n",
       "      <th>1</th>\n",
       "      <td>29.8 |-- 35.6</td>\n",
       "      <td>2</td>\n",
       "      <td>13.33</td>\n",
       "      <td>8</td>\n",
       "      <td>53.33</td>\n",
       "    </tr>\n",
       "    <tr>\n",
       "      <th>2</th>\n",
       "      <td>35.6 |-- 41.4</td>\n",
       "      <td>3</td>\n",
       "      <td>20.00</td>\n",
       "      <td>11</td>\n",
       "      <td>73.33</td>\n",
       "    </tr>\n",
       "    <tr>\n",
       "      <th>3</th>\n",
       "      <td>41.4 |-- 47.2</td>\n",
       "      <td>2</td>\n",
       "      <td>13.33</td>\n",
       "      <td>13</td>\n",
       "      <td>86.66</td>\n",
       "    </tr>\n",
       "    <tr>\n",
       "      <th>4</th>\n",
       "      <td>47.2 |-- 53.0</td>\n",
       "      <td>2</td>\n",
       "      <td>13.33</td>\n",
       "      <td>15</td>\n",
       "      <td>99.99</td>\n",
       "    </tr>\n",
       "  </tbody>\n",
       "</table>\n",
       "</div>"
      ],
      "text/plain": [
       "    Faixa Etária  Frequencia Absoluta  Frequencia Relativa  \\\n",
       "0  24.0 |-- 29.8                    6                40.00   \n",
       "1  29.8 |-- 35.6                    2                13.33   \n",
       "2  35.6 |-- 41.4                    3                20.00   \n",
       "3  41.4 |-- 47.2                    2                13.33   \n",
       "4  47.2 |-- 53.0                    2                13.33   \n",
       "\n",
       "   Acumulada Absoluta  Acumulada Relativa  \n",
       "0                   6               40.00  \n",
       "1                   8               53.33  \n",
       "2                  11               73.33  \n",
       "3                  13               86.66  \n",
       "4                  15               99.99  "
      ]
     },
     "execution_count": 65,
     "metadata": {},
     "output_type": "execute_result"
    }
   ],
   "source": [
    "df2= pd.DataFrame({'Faixa Etária': classe, \n",
    "                   'Frequencia Absoluta': fi, \n",
    "                   'Frequencia Relativa': fr, \n",
    "                   'Acumulada Absoluta': F,\n",
    "                   'Acumulada Relativa': Fa})\n",
    "df2"
   ]
  },
  {
   "cell_type": "markdown",
   "metadata": {},
   "source": [
    "#### Atividade 2.3"
   ]
  },
  {
   "cell_type": "code",
   "execution_count": 69,
   "metadata": {},
   "outputs": [],
   "source": [
    "notas = pd.DataFrame({'Notas': [2.9, 3.7, 3.8, 4.7, 4.9, 5.2, 5.6, 5.8, 6.0, 6.2, 6.3, 6.3, 6.3, 6.5, 6.5, 6.6, 6.8, 6.8, 6.9,\n",
    "                                6.9, 7.0, 7.0, 7.1, 7.3, 7.3, 7.4, 7.4, 7.5, 7.5, 7.6, 7.6, 7.7, 7.7, 7.9, 8.1, 8.1, 8.2, 8.2,\n",
    "                                8.3, 8.3, 8.4, 8.5, 8.7, 8.7, 8.8, 8.9, 9.0, 9.1, 9.4, 9.7]})"
   ]
  },
  {
   "cell_type": "code",
   "execution_count": 73,
   "metadata": {},
   "outputs": [
    {
     "data": {
      "text/plain": [
       "array([ 3,  1,  4,  8, 17, 11,  6])"
      ]
     },
     "execution_count": 73,
     "metadata": {},
     "output_type": "execute_result"
    }
   ],
   "source": [
    "fi, classes = np.histogram(notas.Notas, bins='sturges')\n",
    "fi"
   ]
  },
  {
   "cell_type": "code",
   "execution_count": 74,
   "metadata": {},
   "outputs": [
    {
     "data": {
      "text/plain": [
       "array([ 6.,  2.,  8., 16., 34., 22., 12.])"
      ]
     },
     "execution_count": 74,
     "metadata": {},
     "output_type": "execute_result"
    }
   ],
   "source": [
    "fr = fi*100/len(notas.Notas)\n",
    "fr"
   ]
  },
  {
   "cell_type": "code",
   "execution_count": 75,
   "metadata": {},
   "outputs": [
    {
     "data": {
      "text/plain": [
       "array([ 3,  4,  8, 16, 33, 44, 50])"
      ]
     },
     "execution_count": 75,
     "metadata": {},
     "output_type": "execute_result"
    }
   ],
   "source": [
    "Fa = fi.cumsum()\n",
    "Fa"
   ]
  },
  {
   "cell_type": "code",
   "execution_count": 76,
   "metadata": {},
   "outputs": [
    {
     "data": {
      "text/plain": [
       "array([  6.,   8.,  16.,  32.,  66.,  88., 100.])"
      ]
     },
     "execution_count": 76,
     "metadata": {},
     "output_type": "execute_result"
    }
   ],
   "source": [
    "F = fr.cumsum()\n",
    "F"
   ]
  },
  {
   "cell_type": "code",
   "execution_count": 78,
   "metadata": {},
   "outputs": [
    {
     "data": {
      "text/plain": [
       "['3.0 |-- 4.0',\n",
       " '4.0 |-- 5.0',\n",
       " '5.0 |-- 6.0',\n",
       " '6.0 |-- 7.0',\n",
       " '7.0 |-- 8.0',\n",
       " '8.0 |-- 9.0',\n",
       " '9.0 |-- 10.0']"
      ]
     },
     "execution_count": 78,
     "metadata": {},
     "output_type": "execute_result"
    }
   ],
   "source": [
    "classe = []\n",
    "for i in range(len(classes)):\n",
    "    if i <= len(classes)-2:\n",
    "        a = str(round(classes[i],0))\n",
    "        b = str(round(classes[i+1],0))\n",
    "    else:\n",
    "        break\n",
    "    classe.append(a+' |-- '+b)\n",
    "\n",
    "classe"
   ]
  },
  {
   "cell_type": "code",
   "execution_count": 80,
   "metadata": {},
   "outputs": [
    {
     "data": {
      "text/html": [
       "<div>\n",
       "<style scoped>\n",
       "    .dataframe tbody tr th:only-of-type {\n",
       "        vertical-align: middle;\n",
       "    }\n",
       "\n",
       "    .dataframe tbody tr th {\n",
       "        vertical-align: top;\n",
       "    }\n",
       "\n",
       "    .dataframe thead th {\n",
       "        text-align: right;\n",
       "    }\n",
       "</style>\n",
       "<table border=\"1\" class=\"dataframe\">\n",
       "  <thead>\n",
       "    <tr style=\"text-align: right;\">\n",
       "      <th></th>\n",
       "      <th>Notas</th>\n",
       "      <th>Frequencia Absoluta</th>\n",
       "      <th>Frequencia Relativa</th>\n",
       "      <th>Acumulada Absoluta</th>\n",
       "      <th>Acumulada Relativa</th>\n",
       "    </tr>\n",
       "  </thead>\n",
       "  <tbody>\n",
       "    <tr>\n",
       "      <th>0</th>\n",
       "      <td>3.0 |-- 4.0</td>\n",
       "      <td>3</td>\n",
       "      <td>6.0</td>\n",
       "      <td>3</td>\n",
       "      <td>6.0</td>\n",
       "    </tr>\n",
       "    <tr>\n",
       "      <th>1</th>\n",
       "      <td>4.0 |-- 5.0</td>\n",
       "      <td>1</td>\n",
       "      <td>2.0</td>\n",
       "      <td>4</td>\n",
       "      <td>8.0</td>\n",
       "    </tr>\n",
       "    <tr>\n",
       "      <th>2</th>\n",
       "      <td>5.0 |-- 6.0</td>\n",
       "      <td>4</td>\n",
       "      <td>8.0</td>\n",
       "      <td>8</td>\n",
       "      <td>16.0</td>\n",
       "    </tr>\n",
       "    <tr>\n",
       "      <th>3</th>\n",
       "      <td>6.0 |-- 7.0</td>\n",
       "      <td>8</td>\n",
       "      <td>16.0</td>\n",
       "      <td>16</td>\n",
       "      <td>32.0</td>\n",
       "    </tr>\n",
       "    <tr>\n",
       "      <th>4</th>\n",
       "      <td>7.0 |-- 8.0</td>\n",
       "      <td>17</td>\n",
       "      <td>34.0</td>\n",
       "      <td>33</td>\n",
       "      <td>66.0</td>\n",
       "    </tr>\n",
       "    <tr>\n",
       "      <th>5</th>\n",
       "      <td>8.0 |-- 9.0</td>\n",
       "      <td>11</td>\n",
       "      <td>22.0</td>\n",
       "      <td>44</td>\n",
       "      <td>88.0</td>\n",
       "    </tr>\n",
       "    <tr>\n",
       "      <th>6</th>\n",
       "      <td>9.0 |-- 10.0</td>\n",
       "      <td>6</td>\n",
       "      <td>12.0</td>\n",
       "      <td>50</td>\n",
       "      <td>100.0</td>\n",
       "    </tr>\n",
       "  </tbody>\n",
       "</table>\n",
       "</div>"
      ],
      "text/plain": [
       "          Notas  Frequencia Absoluta  Frequencia Relativa  Acumulada Absoluta  \\\n",
       "0   3.0 |-- 4.0                    3                  6.0                   3   \n",
       "1   4.0 |-- 5.0                    1                  2.0                   4   \n",
       "2   5.0 |-- 6.0                    4                  8.0                   8   \n",
       "3   6.0 |-- 7.0                    8                 16.0                  16   \n",
       "4   7.0 |-- 8.0                   17                 34.0                  33   \n",
       "5   8.0 |-- 9.0                   11                 22.0                  44   \n",
       "6  9.0 |-- 10.0                    6                 12.0                  50   \n",
       "\n",
       "   Acumulada Relativa  \n",
       "0                 6.0  \n",
       "1                 8.0  \n",
       "2                16.0  \n",
       "3                32.0  \n",
       "4                66.0  \n",
       "5                88.0  \n",
       "6               100.0  "
      ]
     },
     "execution_count": 80,
     "metadata": {},
     "output_type": "execute_result"
    }
   ],
   "source": [
    "df3 = pd.DataFrame({'Notas': classe, \n",
    "                    'Frequencia Absoluta': fi, \n",
    "                    'Frequencia Relativa': fr, \n",
    "                    'Acumulada Absoluta': Fa,\n",
    "                    'Acumulada Relativa': F})\n",
    "df3"
   ]
  },
  {
   "cell_type": "code",
   "execution_count": null,
   "metadata": {},
   "outputs": [],
   "source": []
  }
 ],
 "metadata": {
  "kernelspec": {
   "display_name": "Python 3",
   "language": "python",
   "name": "python3"
  },
  "language_info": {
   "codemirror_mode": {
    "name": "ipython",
    "version": 3
   },
   "file_extension": ".py",
   "mimetype": "text/x-python",
   "name": "python",
   "nbconvert_exporter": "python",
   "pygments_lexer": "ipython3",
   "version": "3.7.1"
  }
 },
 "nbformat": 4,
 "nbformat_minor": 2
}
