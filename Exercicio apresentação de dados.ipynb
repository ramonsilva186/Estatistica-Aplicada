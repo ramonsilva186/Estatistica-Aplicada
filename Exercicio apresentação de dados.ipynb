{
 "cells": [
  {
   "cell_type": "code",
   "execution_count": 172,
   "metadata": {},
   "outputs": [],
   "source": [
    "import numpy as np\n",
    "import pandas as pd\n",
    "import matplotlib.pyplot as plt\n",
    "%matplotlib inline"
   ]
  },
  {
   "cell_type": "markdown",
   "metadata": {},
   "source": [
    "# Aula 1"
   ]
  },
  {
   "cell_type": "markdown",
   "metadata": {},
   "source": [
    "#### Exercicio 1.1"
   ]
  },
  {
   "cell_type": "code",
   "execution_count": 173,
   "metadata": {},
   "outputs": [],
   "source": [
    "df = pd.DataFrame({'Sexo': ['F', 'M', 'F', 'F', 'M', 'M', 'F', 'F', 'F', 'M', 'F'],\n",
    "                          'Predileta': ['H', 'M', 'P', 'H', 'C', 'H', 'M', 'P', 'H', 'C', 'P'],\n",
    "                          'Nota': [5, 8, 8, 6, 5, 6, 8, 4, 2, 6, 8]})\n",
    "\n",
    "df2 = pd.DataFrame({'Sexo': ['M', 'M', 'M', 'M', 'M', 'F', 'F', 'M', 'M', 'F', 'F'],\n",
    "                          'Predileta': ['M', 'G', 'G', 'M', 'M','P', 'G', 'G', 'P', 'M', 'G'],\n",
    "                          'Nota': [2, 4, 9, 7, 1, 8, 5, 9, 5, 8, 6]})\n",
    "\n",
    "df3 = pd.DataFrame({'Sexo': ['M', 'M', 'F', 'F', 'M', 'M', 'F', 'F', 'F', 'M', 'M'],\n",
    "                          'Predileta': ['H', 'M', 'P', 'G', 'C', 'H', 'M', 'P', 'M', 'G', 'H'],\n",
    "                          'Nota': [3, 5, 5, 5, 7, 4, 7, 7, 6, 6, 9]})\n",
    "\n",
    "df4 = pd.DataFrame({'Sexo': ['F', 'M', 'M', 'F', 'M', 'F', 'F', 'F', 'M'],\n",
    "                          'Predileta': ['M', 'P', 'G', 'M', 'P', 'M', 'M', 'P', 'M'],\n",
    "                          'Nota': [8, 5, 6, 7, 5, 5, 5, 9, 8]})"
   ]
  },
  {
   "cell_type": "code",
   "execution_count": 174,
   "metadata": {},
   "outputs": [
    {
     "data": {
      "text/html": [
       "<div>\n",
       "<style scoped>\n",
       "    .dataframe tbody tr th:only-of-type {\n",
       "        vertical-align: middle;\n",
       "    }\n",
       "\n",
       "    .dataframe tbody tr th {\n",
       "        vertical-align: top;\n",
       "    }\n",
       "\n",
       "    .dataframe thead th {\n",
       "        text-align: right;\n",
       "    }\n",
       "</style>\n",
       "<table border=\"1\" class=\"dataframe\">\n",
       "  <thead>\n",
       "    <tr style=\"text-align: right;\">\n",
       "      <th></th>\n",
       "      <th>Sexo</th>\n",
       "      <th>Predileta</th>\n",
       "      <th>Nota</th>\n",
       "      <th>Sexo</th>\n",
       "      <th>Predileta</th>\n",
       "      <th>Nota</th>\n",
       "      <th>Sexo</th>\n",
       "      <th>Predileta</th>\n",
       "      <th>Nota</th>\n",
       "      <th>Sexo</th>\n",
       "      <th>Predileta</th>\n",
       "      <th>Nota</th>\n",
       "    </tr>\n",
       "  </thead>\n",
       "  <tbody>\n",
       "    <tr>\n",
       "      <th>0</th>\n",
       "      <td>F</td>\n",
       "      <td>H</td>\n",
       "      <td>5</td>\n",
       "      <td>M</td>\n",
       "      <td>M</td>\n",
       "      <td>2</td>\n",
       "      <td>M</td>\n",
       "      <td>H</td>\n",
       "      <td>3</td>\n",
       "      <td>F</td>\n",
       "      <td>M</td>\n",
       "      <td>8.0</td>\n",
       "    </tr>\n",
       "    <tr>\n",
       "      <th>1</th>\n",
       "      <td>M</td>\n",
       "      <td>M</td>\n",
       "      <td>8</td>\n",
       "      <td>M</td>\n",
       "      <td>G</td>\n",
       "      <td>4</td>\n",
       "      <td>M</td>\n",
       "      <td>M</td>\n",
       "      <td>5</td>\n",
       "      <td>M</td>\n",
       "      <td>P</td>\n",
       "      <td>5.0</td>\n",
       "    </tr>\n",
       "    <tr>\n",
       "      <th>2</th>\n",
       "      <td>F</td>\n",
       "      <td>P</td>\n",
       "      <td>8</td>\n",
       "      <td>M</td>\n",
       "      <td>G</td>\n",
       "      <td>9</td>\n",
       "      <td>F</td>\n",
       "      <td>P</td>\n",
       "      <td>5</td>\n",
       "      <td>M</td>\n",
       "      <td>G</td>\n",
       "      <td>6.0</td>\n",
       "    </tr>\n",
       "    <tr>\n",
       "      <th>3</th>\n",
       "      <td>F</td>\n",
       "      <td>H</td>\n",
       "      <td>6</td>\n",
       "      <td>M</td>\n",
       "      <td>M</td>\n",
       "      <td>7</td>\n",
       "      <td>F</td>\n",
       "      <td>G</td>\n",
       "      <td>5</td>\n",
       "      <td>F</td>\n",
       "      <td>M</td>\n",
       "      <td>7.0</td>\n",
       "    </tr>\n",
       "    <tr>\n",
       "      <th>4</th>\n",
       "      <td>M</td>\n",
       "      <td>C</td>\n",
       "      <td>5</td>\n",
       "      <td>M</td>\n",
       "      <td>M</td>\n",
       "      <td>1</td>\n",
       "      <td>M</td>\n",
       "      <td>C</td>\n",
       "      <td>7</td>\n",
       "      <td>M</td>\n",
       "      <td>P</td>\n",
       "      <td>5.0</td>\n",
       "    </tr>\n",
       "    <tr>\n",
       "      <th>5</th>\n",
       "      <td>M</td>\n",
       "      <td>H</td>\n",
       "      <td>6</td>\n",
       "      <td>F</td>\n",
       "      <td>P</td>\n",
       "      <td>8</td>\n",
       "      <td>M</td>\n",
       "      <td>H</td>\n",
       "      <td>4</td>\n",
       "      <td>F</td>\n",
       "      <td>M</td>\n",
       "      <td>5.0</td>\n",
       "    </tr>\n",
       "    <tr>\n",
       "      <th>6</th>\n",
       "      <td>F</td>\n",
       "      <td>M</td>\n",
       "      <td>8</td>\n",
       "      <td>F</td>\n",
       "      <td>G</td>\n",
       "      <td>5</td>\n",
       "      <td>F</td>\n",
       "      <td>M</td>\n",
       "      <td>7</td>\n",
       "      <td>F</td>\n",
       "      <td>M</td>\n",
       "      <td>5.0</td>\n",
       "    </tr>\n",
       "    <tr>\n",
       "      <th>7</th>\n",
       "      <td>F</td>\n",
       "      <td>P</td>\n",
       "      <td>4</td>\n",
       "      <td>M</td>\n",
       "      <td>G</td>\n",
       "      <td>9</td>\n",
       "      <td>F</td>\n",
       "      <td>P</td>\n",
       "      <td>7</td>\n",
       "      <td>F</td>\n",
       "      <td>P</td>\n",
       "      <td>9.0</td>\n",
       "    </tr>\n",
       "    <tr>\n",
       "      <th>8</th>\n",
       "      <td>F</td>\n",
       "      <td>H</td>\n",
       "      <td>2</td>\n",
       "      <td>M</td>\n",
       "      <td>P</td>\n",
       "      <td>5</td>\n",
       "      <td>F</td>\n",
       "      <td>M</td>\n",
       "      <td>6</td>\n",
       "      <td>M</td>\n",
       "      <td>M</td>\n",
       "      <td>8.0</td>\n",
       "    </tr>\n",
       "    <tr>\n",
       "      <th>9</th>\n",
       "      <td>M</td>\n",
       "      <td>C</td>\n",
       "      <td>6</td>\n",
       "      <td>F</td>\n",
       "      <td>M</td>\n",
       "      <td>8</td>\n",
       "      <td>M</td>\n",
       "      <td>G</td>\n",
       "      <td>6</td>\n",
       "      <td>NaN</td>\n",
       "      <td>NaN</td>\n",
       "      <td>NaN</td>\n",
       "    </tr>\n",
       "    <tr>\n",
       "      <th>10</th>\n",
       "      <td>F</td>\n",
       "      <td>P</td>\n",
       "      <td>8</td>\n",
       "      <td>F</td>\n",
       "      <td>G</td>\n",
       "      <td>6</td>\n",
       "      <td>M</td>\n",
       "      <td>H</td>\n",
       "      <td>9</td>\n",
       "      <td>NaN</td>\n",
       "      <td>NaN</td>\n",
       "      <td>NaN</td>\n",
       "    </tr>\n",
       "  </tbody>\n",
       "</table>\n",
       "</div>"
      ],
      "text/plain": [
       "   Sexo Predileta  Nota Sexo Predileta  Nota Sexo Predileta  Nota Sexo  \\\n",
       "0     F         H     5    M         M     2    M         H     3    F   \n",
       "1     M         M     8    M         G     4    M         M     5    M   \n",
       "2     F         P     8    M         G     9    F         P     5    M   \n",
       "3     F         H     6    M         M     7    F         G     5    F   \n",
       "4     M         C     5    M         M     1    M         C     7    M   \n",
       "5     M         H     6    F         P     8    M         H     4    F   \n",
       "6     F         M     8    F         G     5    F         M     7    F   \n",
       "7     F         P     4    M         G     9    F         P     7    F   \n",
       "8     F         H     2    M         P     5    F         M     6    M   \n",
       "9     M         C     6    F         M     8    M         G     6  NaN   \n",
       "10    F         P     8    F         G     6    M         H     9  NaN   \n",
       "\n",
       "   Predileta  Nota  \n",
       "0          M   8.0  \n",
       "1          P   5.0  \n",
       "2          G   6.0  \n",
       "3          M   7.0  \n",
       "4          P   5.0  \n",
       "5          M   5.0  \n",
       "6          M   5.0  \n",
       "7          P   9.0  \n",
       "8          M   8.0  \n",
       "9        NaN   NaN  \n",
       "10       NaN   NaN  "
      ]
     },
     "execution_count": 174,
     "metadata": {},
     "output_type": "execute_result"
    }
   ],
   "source": [
    "tabela1_df = pd.concat([df, df2, df3, df4], axis=1)\n",
    "tabela1_df"
   ]
  },
  {
   "cell_type": "code",
   "execution_count": 175,
   "metadata": {},
   "outputs": [],
   "source": [
    "df = pd.concat([df, df2, df3, df4], axis=0)\n",
    "tabela_fi = df['Sexo'].value_counts()\n",
    "tabela_fr = round(df['Sexo'].value_counts(normalize=True) * 100, 2)"
   ]
  },
  {
   "cell_type": "code",
   "execution_count": 176,
   "metadata": {},
   "outputs": [
    {
     "data": {
      "text/html": [
       "<div>\n",
       "<style scoped>\n",
       "    .dataframe tbody tr th:only-of-type {\n",
       "        vertical-align: middle;\n",
       "    }\n",
       "\n",
       "    .dataframe tbody tr th {\n",
       "        vertical-align: top;\n",
       "    }\n",
       "\n",
       "    .dataframe thead th {\n",
       "        text-align: right;\n",
       "    }\n",
       "</style>\n",
       "<table border=\"1\" class=\"dataframe\">\n",
       "  <thead>\n",
       "    <tr style=\"text-align: right;\">\n",
       "      <th></th>\n",
       "      <th>Frequencia Absoluta</th>\n",
       "      <th>Frequencia Relativa %</th>\n",
       "    </tr>\n",
       "    <tr>\n",
       "      <th>Sexo</th>\n",
       "      <th></th>\n",
       "      <th></th>\n",
       "    </tr>\n",
       "  </thead>\n",
       "  <tbody>\n",
       "    <tr>\n",
       "      <th>Masculino</th>\n",
       "      <td>21</td>\n",
       "      <td>50.0</td>\n",
       "    </tr>\n",
       "    <tr>\n",
       "      <th>Feminino</th>\n",
       "      <td>21</td>\n",
       "      <td>50.0</td>\n",
       "    </tr>\n",
       "    <tr>\n",
       "      <th>Total</th>\n",
       "      <td>42</td>\n",
       "      <td>100.0</td>\n",
       "    </tr>\n",
       "  </tbody>\n",
       "</table>\n",
       "</div>"
      ],
      "text/plain": [
       "           Frequencia Absoluta  Frequencia Relativa %\n",
       "Sexo                                                 \n",
       "Masculino                   21                   50.0\n",
       "Feminino                    21                   50.0\n",
       "Total                       42                  100.0"
      ]
     },
     "execution_count": 176,
     "metadata": {},
     "output_type": "execute_result"
    }
   ],
   "source": [
    "tabela_freq = {'Sexo': ['Masculino', 'Feminino', 'Total'],\n",
    "                      'Frequencia Absoluta': [tabela_fi.max(), tabela_fi.min(), sum(tabela_fi)],\n",
    "                      'Frequencia Relativa %': [tabela_fr.max(), tabela_fr.min(), sum(tabela_fr)]}\n",
    "\n",
    "df_freq = pd.DataFrame(tabela_freq)\n",
    "df_freq.set_index('Sexo')"
   ]
  },
  {
   "cell_type": "code",
   "execution_count": 243,
   "metadata": {},
   "outputs": [
    {
     "data": {
      "image/png": "[encoded data removed]",
      "text/plain": [
       "<Figure size 432x288 with 1 Axes>"
      ]
     },
     "metadata": {},
     "output_type": "display_data"
    }
   ],
   "source": [
    "labels = 'Masculino', 'Feminino'\n",
    "tam = [tabela_fi.max(), tabela_fi.min()]\n",
    "\n",
    "tabela1_fig, tabela1_axe = plt.subplots()\n",
    "\n",
    "tabela1_axe.pie(tam, labels=labels, colors=['g', 'r'], autopct=lambda x: '{:.0f}'.format(sum(tabela_fi)/2))\n",
    "\n",
    "tabela1_axe.axis('equal')\n",
    "\n",
    "plt.show()"
   ]
  },
  {
   "cell_type": "code",
   "execution_count": 178,
   "metadata": {},
   "outputs": [],
   "source": [
    "df.replace({'Predileta': 'C'}, 'Ciências', inplace=True)\n",
    "df.replace({'Predileta': 'G'}, 'Geografia', inplace=True)\n",
    "df.replace({'Predileta': 'H'}, 'História', inplace=True)\n",
    "df.replace({'Predileta': 'M'}, 'Matemática', inplace=True)\n",
    "df.replace({'Predileta': 'P'}, 'Português', inplace=True)"
   ]
  },
  {
   "cell_type": "code",
   "execution_count": 179,
   "metadata": {},
   "outputs": [
    {
     "data": {
      "text/plain": [
       "Matemática    14\n",
       "Português     10\n",
       "Geografia      8\n",
       "História       7\n",
       "Ciências       3\n",
       "Name: Predileta, dtype: int64"
      ]
     },
     "execution_count": 179,
     "metadata": {},
     "output_type": "execute_result"
    }
   ],
   "source": [
    "fi_predileta = df['Predileta'].value_counts()\n",
    "fi_predileta"
   ]
  },
  {
   "cell_type": "code",
   "execution_count": 180,
   "metadata": {},
   "outputs": [
    {
     "data": {
      "text/plain": [
       "Matemática    33.33\n",
       "Português     23.81\n",
       "Geografia     19.05\n",
       "História      16.67\n",
       "Ciências       7.14\n",
       "Name: Predileta, dtype: float64"
      ]
     },
     "execution_count": 180,
     "metadata": {},
     "output_type": "execute_result"
    }
   ],
   "source": [
    "fr_predileta = round(df['Predileta'].value_counts(normalize=True) * 100, 2)\n",
    "fr_predileta"
   ]
  },
  {
   "cell_type": "code",
   "execution_count": 181,
   "metadata": {},
   "outputs": [
    {
     "data": {
      "text/html": [
       "<div>\n",
       "<style scoped>\n",
       "    .dataframe tbody tr th:only-of-type {\n",
       "        vertical-align: middle;\n",
       "    }\n",
       "\n",
       "    .dataframe tbody tr th {\n",
       "        vertical-align: top;\n",
       "    }\n",
       "\n",
       "    .dataframe thead th {\n",
       "        text-align: right;\n",
       "    }\n",
       "</style>\n",
       "<table border=\"1\" class=\"dataframe\">\n",
       "  <thead>\n",
       "    <tr style=\"text-align: right;\">\n",
       "      <th></th>\n",
       "      <th>Freq Absoluta</th>\n",
       "      <th>Freq Relativa %</th>\n",
       "    </tr>\n",
       "    <tr>\n",
       "      <th>Matérias prediletas</th>\n",
       "      <th></th>\n",
       "      <th></th>\n",
       "    </tr>\n",
       "  </thead>\n",
       "  <tbody>\n",
       "    <tr>\n",
       "      <th>Ciências</th>\n",
       "      <td>14</td>\n",
       "      <td>33.33</td>\n",
       "    </tr>\n",
       "    <tr>\n",
       "      <th>Geografia</th>\n",
       "      <td>10</td>\n",
       "      <td>23.81</td>\n",
       "    </tr>\n",
       "    <tr>\n",
       "      <th>História</th>\n",
       "      <td>8</td>\n",
       "      <td>19.05</td>\n",
       "    </tr>\n",
       "    <tr>\n",
       "      <th>Matemática</th>\n",
       "      <td>7</td>\n",
       "      <td>16.67</td>\n",
       "    </tr>\n",
       "    <tr>\n",
       "      <th>Português</th>\n",
       "      <td>3</td>\n",
       "      <td>7.14</td>\n",
       "    </tr>\n",
       "    <tr>\n",
       "      <th>Total</th>\n",
       "      <td>42</td>\n",
       "      <td>100.00</td>\n",
       "    </tr>\n",
       "  </tbody>\n",
       "</table>\n",
       "</div>"
      ],
      "text/plain": [
       "                     Freq Absoluta  Freq Relativa %\n",
       "Matérias prediletas                                \n",
       "Ciências                        14            33.33\n",
       "Geografia                       10            23.81\n",
       "História                         8            19.05\n",
       "Matemática                       7            16.67\n",
       "Português                        3             7.14\n",
       "Total                           42           100.00"
      ]
     },
     "execution_count": 181,
     "metadata": {},
     "output_type": "execute_result"
    }
   ],
   "source": [
    "freq_predileta = {'Matérias prediletas': ['Ciências', 'Geografia', 'História', 'Matemática', 'Português', 'Total'],\n",
    "                           'Freq Absoluta': [fi_predileta[0], fi_predileta[1], fi_predileta[2], fi_predileta[3], fi_predileta[4], sum(fi_predileta)],\n",
    "                           'Freq Relativa %': [fr_predileta[0], fr_predileta[1], fr_predileta[2], fr_predileta[3], fr_predileta[4], sum(fr_predileta)]}\n",
    "\n",
    "df5 = pd.DataFrame(freq_predileta)\n",
    "\n",
    "df5.set_index('Matérias prediletas')"
   ]
  },
  {
   "cell_type": "code",
   "execution_count": 182,
   "metadata": {},
   "outputs": [
    {
     "data": {
      "text/plain": [
       "Text(0, 0.5, 'Quantidade')"
      ]
     },
     "execution_count": 182,
     "metadata": {},
     "output_type": "execute_result"
    },
    {
     "data": {
      "image/png": "[encoded data removed]",
      "text/plain": [
       "<Figure size 432x288 with 1 Axes>"
      ]
     },
     "metadata": {
      "needs_background": "light"
     },
     "output_type": "display_data"
    }
   ],
   "source": [
    "fi_predileta.plot.bar()\n",
    "plt.grid(c='b', ls=':')\n",
    "plt.xlabel(\"Máterias\")\n",
    "plt.ylabel(\"Quantidade\")"
   ]
  },
  {
   "cell_type": "code",
   "execution_count": 183,
   "metadata": {},
   "outputs": [
    {
     "data": {
      "text/plain": [
       "Text(0, 0.5, 'Quantidade')"
      ]
     },
     "execution_count": 183,
     "metadata": {},
     "output_type": "execute_result"
    },
    {
     "data": {
      "image/png": "[encoded data removed]",
      "text/plain": [
       "<Figure size 432x288 with 1 Axes>"
      ]
     },
     "metadata": {
      "needs_background": "light"
     },
     "output_type": "display_data"
    }
   ],
   "source": [
    "a = df['Nota'].value_counts()\n",
    "a.plot.bar()\n",
    "plt.grid(c='g', ls=':')\n",
    "plt.xlabel(\"Notas\")\n",
    "plt.ylabel(\"Quantidade\")"
   ]
  },
  {
   "cell_type": "markdown",
   "metadata": {},
   "source": [
    "#### Exercicio 1.2"
   ]
  },
  {
   "cell_type": "code",
   "execution_count": 184,
   "metadata": {},
   "outputs": [
    {
     "data": {
      "text/html": [
       "<div>\n",
       "<style scoped>\n",
       "    .dataframe tbody tr th:only-of-type {\n",
       "        vertical-align: middle;\n",
       "    }\n",
       "\n",
       "    .dataframe tbody tr th {\n",
       "        vertical-align: top;\n",
       "    }\n",
       "\n",
       "    .dataframe thead th {\n",
       "        text-align: right;\n",
       "    }\n",
       "</style>\n",
       "<table border=\"1\" class=\"dataframe\">\n",
       "  <thead>\n",
       "    <tr style=\"text-align: right;\">\n",
       "      <th></th>\n",
       "      <th>Refrigerantes</th>\n",
       "      <th>%</th>\n",
       "    </tr>\n",
       "  </thead>\n",
       "  <tbody>\n",
       "    <tr>\n",
       "      <th>0</th>\n",
       "      <td>Colas</td>\n",
       "      <td>51.1</td>\n",
       "    </tr>\n",
       "    <tr>\n",
       "      <th>1</th>\n",
       "      <td>Guaraná</td>\n",
       "      <td>24.4</td>\n",
       "    </tr>\n",
       "    <tr>\n",
       "      <th>2</th>\n",
       "      <td>Laranja</td>\n",
       "      <td>10.9</td>\n",
       "    </tr>\n",
       "    <tr>\n",
       "      <th>3</th>\n",
       "      <td>Limão</td>\n",
       "      <td>5.9</td>\n",
       "    </tr>\n",
       "    <tr>\n",
       "      <th>4</th>\n",
       "      <td>Uva</td>\n",
       "      <td>3.2</td>\n",
       "    </tr>\n",
       "    <tr>\n",
       "      <th>5</th>\n",
       "      <td>Tuti Fruti</td>\n",
       "      <td>1.1</td>\n",
       "    </tr>\n",
       "    <tr>\n",
       "      <th>6</th>\n",
       "      <td>Tônica</td>\n",
       "      <td>0.7</td>\n",
       "    </tr>\n",
       "    <tr>\n",
       "      <th>7</th>\n",
       "      <td>Cítrico</td>\n",
       "      <td>0.1</td>\n",
       "    </tr>\n",
       "    <tr>\n",
       "      <th>8</th>\n",
       "      <td>Maçã</td>\n",
       "      <td>0.5</td>\n",
       "    </tr>\n",
       "    <tr>\n",
       "      <th>9</th>\n",
       "      <td>Outros sabores</td>\n",
       "      <td>2.1</td>\n",
       "    </tr>\n",
       "  </tbody>\n",
       "</table>\n",
       "</div>"
      ],
      "text/plain": [
       "    Refrigerantes     %\n",
       "0           Colas  51.1\n",
       "1         Guaraná  24.4\n",
       "2         Laranja  10.9\n",
       "3           Limão   5.9\n",
       "4             Uva   3.2\n",
       "5      Tuti Fruti   1.1\n",
       "6          Tônica   0.7\n",
       "7         Cítrico   0.1\n",
       "8            Maçã   0.5\n",
       "9  Outros sabores   2.1"
      ]
     },
     "execution_count": 184,
     "metadata": {},
     "output_type": "execute_result"
    }
   ],
   "source": [
    "percentual = [51.1, 24.4, 10.9, 5.9, 3.2, 1.1, 0.7, 0.1, 0.5, 2.1]\n",
    "refrigerantes = ['Colas', 'Guaraná', 'Laranja', 'Limão', 'Uva', 'Tuti Fruti', 'Tônica', 'Cítrico', 'Maçã', 'Outros sabores']\n",
    "df6 = pd.DataFrame({'Refrigerantes': refrigerantes, '%': percentual})\n",
    "df6"
   ]
  },
  {
   "cell_type": "code",
   "execution_count": 185,
   "metadata": {},
   "outputs": [
    {
     "data": {
      "image/png": "[encoded data removed]",
      "text/plain": [
       "<Figure size 432x288 with 1 Axes>"
      ]
     },
     "metadata": {
      "needs_background": "light"
     },
     "output_type": "display_data"
    }
   ],
   "source": [
    "plt.barh(refrigerantes, percentual, color='r')\n",
    "plt.grid(c='g', ls='-.')"
   ]
  },
  {
   "cell_type": "markdown",
   "metadata": {},
   "source": [
    "#### Exercicio 1.4"
   ]
  },
  {
   "cell_type": "code",
   "execution_count": 186,
   "metadata": {},
   "outputs": [
    {
     "data": {
      "text/plain": [
       "Text(0, 0.5, 'Porcentagem')"
      ]
     },
     "execution_count": 186,
     "metadata": {},
     "output_type": "execute_result"
    },
    {
     "data": {
      "image/png": "[encoded data removed]",
      "text/plain": [
       "<Figure size 432x288 with 1 Axes>"
      ]
     },
     "metadata": {
      "needs_background": "light"
     },
     "output_type": "display_data"
    }
   ],
   "source": [
    "conglomerados = ['GM', 'Ford', 'Volks', 'Toyota', 'Renault', 'Chrysler', 'Outros']\n",
    "percentual = [22.8, 16.8, 9.4, 9.2, 8.7, 8.3, 24.8]\n",
    "\n",
    "plt.bar(conglomerados, percentual, color='g')\n",
    "plt.grid(c='r', ls=':')\n",
    "plt.ylabel(\"Porcentagem\")"
   ]
  },
  {
   "cell_type": "markdown",
   "metadata": {},
   "source": [
    "# Aula 2"
   ]
  },
  {
   "cell_type": "markdown",
   "metadata": {},
   "source": [
    "#### Exercicio 2.1"
   ]
  },
  {
   "cell_type": "code",
   "execution_count": 187,
   "metadata": {},
   "outputs": [],
   "source": [
    "numeros = [3.960,  5.016,  13.015, 8.008,  6.930,  5.544,  4.224, 6.138, 118.800, 57.904, 72.600, 100.100, 55.935,\n",
    "        7.223,  3.775,  4.224,  3.216,  7.392,  2.530,  6.930, 1.815, 4.338, 8.065, 10.910, 8.408, 8.624, 6.864, \n",
    "        5.742,  5.749,  8.514,  2.631,  5.236,  8.527,  3.010, 5.914, 11.748, 8.501, 6.512, 11.458, 10.094, 6.721,\n",
    "        2.631,  7.082,  10.318, 8.008,  3.590,  7.128,  7.929, 10.450, 6.780, 5.060, 5.544, 6.178, 13.763, 9.623,\n",
    "        14.883, 17.864, 34.848, 25.300, 52.800, 17.732, 63.923, 30.360, 18.876, 30.800, 19.562, 49.240, \n",
    "        49.434, 26.950, 22.308, 21.146,  14.212,  25.520, 49.251, 30.976, 23.338, 43.648, 26.796, 44.880, 30.008,\n",
    "        30.769, 16.907, 33.911, 27.034, 16.500, 14.445, 28.160, 42.442, 16.507, 36.960, 67.760, 84.084, 89.888,\n",
    "        65.340, 82.280, 86.152, 91.080, 99.792, 77.836, 76.032]\n",
    "\n",
    "\n",
    "df7 = pd.DataFrame({'num' : numeros})"
   ]
  },
  {
   "cell_type": "code",
   "execution_count": 188,
   "metadata": {},
   "outputs": [
    {
     "data": {
      "text/plain": [
       "array([53, 21,  6,  6,  4,  5,  4,  1])"
      ]
     },
     "execution_count": 188,
     "metadata": {},
     "output_type": "execute_result"
    }
   ],
   "source": [
    "num_fi, num_classes = np.histogram(df7, bins='sturges')  #frequencia absoluta\n",
    "num_fi"
   ]
  },
  {
   "cell_type": "code",
   "execution_count": 189,
   "metadata": {},
   "outputs": [
    {
     "data": {
      "text/plain": [
       "array([53., 21.,  6.,  6.,  4.,  5.,  4.,  1.])"
      ]
     },
     "execution_count": 189,
     "metadata": {},
     "output_type": "execute_result"
    }
   ],
   "source": [
    "num_fr = num_fi*100/len(df7)   #frequencia relativa\n",
    "num_fr"
   ]
  },
  {
   "cell_type": "code",
   "execution_count": 190,
   "metadata": {},
   "outputs": [
    {
     "data": {
      "text/plain": [
       "array([ 53,  74,  80,  86,  90,  95,  99, 100])"
      ]
     },
     "execution_count": 190,
     "metadata": {},
     "output_type": "execute_result"
    }
   ],
   "source": [
    "num_Fa = num_fi.cumsum()   # Frequencia Absoluta Acumulada\n",
    "num_Fa"
   ]
  },
  {
   "cell_type": "code",
   "execution_count": 191,
   "metadata": {},
   "outputs": [
    {
     "data": {
      "text/plain": [
       "array([ 53.,  74.,  80.,  86.,  90.,  95.,  99., 100.])"
      ]
     },
     "execution_count": 191,
     "metadata": {},
     "output_type": "execute_result"
    }
   ],
   "source": [
    "num_F = num_fr.cumsum()   # Frequencia Relativa Acumulada\n",
    "num_F"
   ]
  },
  {
   "cell_type": "code",
   "execution_count": 192,
   "metadata": {},
   "outputs": [],
   "source": [
    "classe = []\n",
    "for i in range(len(num_classes)):\n",
    "    if i <= len(num_classes)-2:\n",
    "        a = str(round(num_classes[i],3))\n",
    "        b = str(round(num_classes[i+1],3))\n",
    "    else:\n",
    "        break\n",
    "    classe.append(a+' |-- '+b)\n",
    "\n",
    "classe"
   ]
  },
  {
   "cell_type": "code",
   "execution_count": 201,
   "metadata": {},
   "outputs": [
    {
     "data": {
      "text/html": [
       "<div>\n",
       "<style scoped>\n",
       "    .dataframe tbody tr th:only-of-type {\n",
       "        vertical-align: middle;\n",
       "    }\n",
       "\n",
       "    .dataframe tbody tr th {\n",
       "        vertical-align: top;\n",
       "    }\n",
       "\n",
       "    .dataframe thead th {\n",
       "        text-align: right;\n",
       "    }\n",
       "</style>\n",
       "<table border=\"1\" class=\"dataframe\">\n",
       "  <thead>\n",
       "    <tr style=\"text-align: right;\">\n",
       "      <th></th>\n",
       "      <th>Horas Trabalhadas</th>\n",
       "      <th>Frequencia Absoluta</th>\n",
       "      <th>Frequencia Relativa</th>\n",
       "      <th>Acumulada Absoluta</th>\n",
       "      <th>Acumulada Relativa</th>\n",
       "    </tr>\n",
       "  </thead>\n",
       "  <tbody>\n",
       "    <tr>\n",
       "      <th>0</th>\n",
       "      <td>1.815 |-- 16.438</td>\n",
       "      <td>53</td>\n",
       "      <td>53.0</td>\n",
       "      <td>53</td>\n",
       "      <td>53.0</td>\n",
       "    </tr>\n",
       "    <tr>\n",
       "      <th>1</th>\n",
       "      <td>16.438 |-- 31.061</td>\n",
       "      <td>21</td>\n",
       "      <td>21.0</td>\n",
       "      <td>74</td>\n",
       "      <td>74.0</td>\n",
       "    </tr>\n",
       "    <tr>\n",
       "      <th>2</th>\n",
       "      <td>31.061 |-- 45.684</td>\n",
       "      <td>6</td>\n",
       "      <td>6.0</td>\n",
       "      <td>80</td>\n",
       "      <td>80.0</td>\n",
       "    </tr>\n",
       "    <tr>\n",
       "      <th>3</th>\n",
       "      <td>45.684 |-- 60.308</td>\n",
       "      <td>6</td>\n",
       "      <td>6.0</td>\n",
       "      <td>86</td>\n",
       "      <td>86.0</td>\n",
       "    </tr>\n",
       "    <tr>\n",
       "      <th>4</th>\n",
       "      <td>60.308 |-- 74.931</td>\n",
       "      <td>4</td>\n",
       "      <td>4.0</td>\n",
       "      <td>90</td>\n",
       "      <td>90.0</td>\n",
       "    </tr>\n",
       "    <tr>\n",
       "      <th>5</th>\n",
       "      <td>74.931 |-- 89.554</td>\n",
       "      <td>5</td>\n",
       "      <td>5.0</td>\n",
       "      <td>95</td>\n",
       "      <td>95.0</td>\n",
       "    </tr>\n",
       "    <tr>\n",
       "      <th>6</th>\n",
       "      <td>89.554 |-- 104.177</td>\n",
       "      <td>4</td>\n",
       "      <td>4.0</td>\n",
       "      <td>99</td>\n",
       "      <td>99.0</td>\n",
       "    </tr>\n",
       "    <tr>\n",
       "      <th>7</th>\n",
       "      <td>104.177 |-- 118.8</td>\n",
       "      <td>1</td>\n",
       "      <td>1.0</td>\n",
       "      <td>100</td>\n",
       "      <td>100.0</td>\n",
       "    </tr>\n",
       "  </tbody>\n",
       "</table>\n",
       "</div>"
      ],
      "text/plain": [
       "    Horas Trabalhadas  Frequencia Absoluta  Frequencia Relativa  \\\n",
       "0    1.815 |-- 16.438                   53                 53.0   \n",
       "1   16.438 |-- 31.061                   21                 21.0   \n",
       "2   31.061 |-- 45.684                    6                  6.0   \n",
       "3   45.684 |-- 60.308                    6                  6.0   \n",
       "4   60.308 |-- 74.931                    4                  4.0   \n",
       "5   74.931 |-- 89.554                    5                  5.0   \n",
       "6  89.554 |-- 104.177                    4                  4.0   \n",
       "7   104.177 |-- 118.8                    1                  1.0   \n",
       "\n",
       "   Acumulada Absoluta  Acumulada Relativa  \n",
       "0                  53                53.0  \n",
       "1                  74                74.0  \n",
       "2                  80                80.0  \n",
       "3                  86                86.0  \n",
       "4                  90                90.0  \n",
       "5                  95                95.0  \n",
       "6                  99                99.0  \n",
       "7                 100               100.0  "
      ]
     },
     "execution_count": 201,
     "metadata": {},
     "output_type": "execute_result"
    }
   ],
   "source": [
    "df8 = pd.DataFrame({ 'Horas Trabalhadas': classe, \n",
    "                               'Frequencia Absoluta': num_fi, \n",
    "                               'Frequencia Relativa': num_fr, \n",
    "                               'Acumulada Absoluta': num_Fa,\n",
    "                               'Acumulada Relativa': num_F})\n",
    "df8"
   ]
  },
  {
   "cell_type": "markdown",
   "metadata": {},
   "source": [
    "#### Exercicio 2.2"
   ]
  },
  {
   "cell_type": "code",
   "execution_count": 194,
   "metadata": {},
   "outputs": [],
   "source": [
    "df9 = pd.DataFrame({'Municípios': ['Leopoildina', 'Pirapora', 'três Pontas', 'São Francisco', 'Pedro Leopoldo', 'Ponte Nova',\n",
    "                                   'S.Seb.do Paraíso', 'Janaúba', 'Formiga', 'Januária', 'Cataguases', 'Nova Lima', 'Viçosa',\n",
    "                                   'Três Corações', 'Ouro Preto', 'João Monlevade', 'Alfenas', 'Manhuaçu', 'Curvelo', 'Unaí'],\n",
    "                    'População': [50.097, 50.300, 51.024, 51.497, 53.957, 55.303, 58.335, 61.651, 62.907, 63.605, 63.980,\n",
    "                                       64.387, 64.854, 65.291, 66.277, 66.690, 66.957, 67.123, 67.512, 70.033] })\n",
    "              \n",
    "df10 = pd.DataFrame({'Municípios': ['Timóteo', 'Pará de Minas', 'Patrocínio', 'Paracatu', 'Vespasiano', 'Itaúna', \n",
    "                                    'Caratinga', 'S.João del Rei', 'Lavras', 'Araxá', 'Itajubá', 'Ubá', 'Ituiutaba', \n",
    "                                    'Muriaé', 'Passos', 'Cor. Fabriciano', 'Itabira', 'Araguari', 'Cons.Lafaiete', 'Pouso Alegre'],\n",
    "                     'População': [71.478, 73.007, 73.130, 75.216, 76.422, 76.862, 77.789, 78.616, 78.772, 78.997, 84.135,\n",
    "                                       85.065, 89.091, 92.101, 97.211, 97.451, 98.322, 101.974, 102.836, 106.776] })\n",
    "\n",
    "df11 = pd.DataFrame({'Municípios': ['Varginha', 'Barbacena', 'Sabará',' Patos de Minas', 'Teófilo Otoni', 'Ibirité', \n",
    "                                    'Poços de Caldas', 'Divinópolis', 'Sete Lagoas', 'Santa Luzia', 'Ipatinga', \n",
    "                                    'Ribeirão das Neves', 'Gov.Valadares', 'Uberaba', 'Betim', 'Montes Claros', \n",
    "                                    'Juiz de Fora', 'Uberlândia', 'Contagem', 'Belo Horizonte'],\n",
    "                     'População': [108.998, 114.126, 115.352, 123.881, 129.424, 133.044, 135.627, 183.962, 184.871, 184.903,\n",
    "                                      212.496, 246.846, 247.131, 252.051, 306.675, 306.947, 456.796, 501.214, 538.017, 2238.526] })"
   ]
  },
  {
   "cell_type": "code",
   "execution_count": 195,
   "metadata": {},
   "outputs": [
    {
     "data": {
      "text/html": [
       "<div>\n",
       "<style scoped>\n",
       "    .dataframe tbody tr th:only-of-type {\n",
       "        vertical-align: middle;\n",
       "    }\n",
       "\n",
       "    .dataframe tbody tr th {\n",
       "        vertical-align: top;\n",
       "    }\n",
       "\n",
       "    .dataframe thead th {\n",
       "        text-align: right;\n",
       "    }\n",
       "</style>\n",
       "<table border=\"1\" class=\"dataframe\">\n",
       "  <thead>\n",
       "    <tr style=\"text-align: right;\">\n",
       "      <th></th>\n",
       "      <th>Municípios</th>\n",
       "      <th>População</th>\n",
       "      <th>Municípios</th>\n",
       "      <th>População</th>\n",
       "      <th>Municípios</th>\n",
       "      <th>População</th>\n",
       "    </tr>\n",
       "  </thead>\n",
       "  <tbody>\n",
       "    <tr>\n",
       "      <th>0</th>\n",
       "      <td>Leopoildina</td>\n",
       "      <td>50.097</td>\n",
       "      <td>Timóteo</td>\n",
       "      <td>71.478</td>\n",
       "      <td>Varginha</td>\n",
       "      <td>108.998</td>\n",
       "    </tr>\n",
       "    <tr>\n",
       "      <th>1</th>\n",
       "      <td>Pirapora</td>\n",
       "      <td>50.300</td>\n",
       "      <td>Pará de Minas</td>\n",
       "      <td>73.007</td>\n",
       "      <td>Barbacena</td>\n",
       "      <td>114.126</td>\n",
       "    </tr>\n",
       "    <tr>\n",
       "      <th>2</th>\n",
       "      <td>três Pontas</td>\n",
       "      <td>51.024</td>\n",
       "      <td>Patrocínio</td>\n",
       "      <td>73.130</td>\n",
       "      <td>Sabará</td>\n",
       "      <td>115.352</td>\n",
       "    </tr>\n",
       "    <tr>\n",
       "      <th>3</th>\n",
       "      <td>São Francisco</td>\n",
       "      <td>51.497</td>\n",
       "      <td>Paracatu</td>\n",
       "      <td>75.216</td>\n",
       "      <td>Patos de Minas</td>\n",
       "      <td>123.881</td>\n",
       "    </tr>\n",
       "    <tr>\n",
       "      <th>4</th>\n",
       "      <td>Pedro Leopoldo</td>\n",
       "      <td>53.957</td>\n",
       "      <td>Vespasiano</td>\n",
       "      <td>76.422</td>\n",
       "      <td>Teófilo Otoni</td>\n",
       "      <td>129.424</td>\n",
       "    </tr>\n",
       "    <tr>\n",
       "      <th>5</th>\n",
       "      <td>Ponte Nova</td>\n",
       "      <td>55.303</td>\n",
       "      <td>Itaúna</td>\n",
       "      <td>76.862</td>\n",
       "      <td>Ibirité</td>\n",
       "      <td>133.044</td>\n",
       "    </tr>\n",
       "    <tr>\n",
       "      <th>6</th>\n",
       "      <td>S.Seb.do Paraíso</td>\n",
       "      <td>58.335</td>\n",
       "      <td>Caratinga</td>\n",
       "      <td>77.789</td>\n",
       "      <td>Poços de Caldas</td>\n",
       "      <td>135.627</td>\n",
       "    </tr>\n",
       "    <tr>\n",
       "      <th>7</th>\n",
       "      <td>Janaúba</td>\n",
       "      <td>61.651</td>\n",
       "      <td>S.João del Rei</td>\n",
       "      <td>78.616</td>\n",
       "      <td>Divinópolis</td>\n",
       "      <td>183.962</td>\n",
       "    </tr>\n",
       "    <tr>\n",
       "      <th>8</th>\n",
       "      <td>Formiga</td>\n",
       "      <td>62.907</td>\n",
       "      <td>Lavras</td>\n",
       "      <td>78.772</td>\n",
       "      <td>Sete Lagoas</td>\n",
       "      <td>184.871</td>\n",
       "    </tr>\n",
       "    <tr>\n",
       "      <th>9</th>\n",
       "      <td>Januária</td>\n",
       "      <td>63.605</td>\n",
       "      <td>Araxá</td>\n",
       "      <td>78.997</td>\n",
       "      <td>Santa Luzia</td>\n",
       "      <td>184.903</td>\n",
       "    </tr>\n",
       "    <tr>\n",
       "      <th>10</th>\n",
       "      <td>Cataguases</td>\n",
       "      <td>63.980</td>\n",
       "      <td>Itajubá</td>\n",
       "      <td>84.135</td>\n",
       "      <td>Ipatinga</td>\n",
       "      <td>212.496</td>\n",
       "    </tr>\n",
       "    <tr>\n",
       "      <th>11</th>\n",
       "      <td>Nova Lima</td>\n",
       "      <td>64.387</td>\n",
       "      <td>Ubá</td>\n",
       "      <td>85.065</td>\n",
       "      <td>Ribeirão das Neves</td>\n",
       "      <td>246.846</td>\n",
       "    </tr>\n",
       "    <tr>\n",
       "      <th>12</th>\n",
       "      <td>Viçosa</td>\n",
       "      <td>64.854</td>\n",
       "      <td>Ituiutaba</td>\n",
       "      <td>89.091</td>\n",
       "      <td>Gov.Valadares</td>\n",
       "      <td>247.131</td>\n",
       "    </tr>\n",
       "    <tr>\n",
       "      <th>13</th>\n",
       "      <td>Três Corações</td>\n",
       "      <td>65.291</td>\n",
       "      <td>Muriaé</td>\n",
       "      <td>92.101</td>\n",
       "      <td>Uberaba</td>\n",
       "      <td>252.051</td>\n",
       "    </tr>\n",
       "    <tr>\n",
       "      <th>14</th>\n",
       "      <td>Ouro Preto</td>\n",
       "      <td>66.277</td>\n",
       "      <td>Passos</td>\n",
       "      <td>97.211</td>\n",
       "      <td>Betim</td>\n",
       "      <td>306.675</td>\n",
       "    </tr>\n",
       "    <tr>\n",
       "      <th>15</th>\n",
       "      <td>João Monlevade</td>\n",
       "      <td>66.690</td>\n",
       "      <td>Cor. Fabriciano</td>\n",
       "      <td>97.451</td>\n",
       "      <td>Montes Claros</td>\n",
       "      <td>306.947</td>\n",
       "    </tr>\n",
       "    <tr>\n",
       "      <th>16</th>\n",
       "      <td>Alfenas</td>\n",
       "      <td>66.957</td>\n",
       "      <td>Itabira</td>\n",
       "      <td>98.322</td>\n",
       "      <td>Juiz de Fora</td>\n",
       "      <td>456.796</td>\n",
       "    </tr>\n",
       "    <tr>\n",
       "      <th>17</th>\n",
       "      <td>Manhuaçu</td>\n",
       "      <td>67.123</td>\n",
       "      <td>Araguari</td>\n",
       "      <td>101.974</td>\n",
       "      <td>Uberlândia</td>\n",
       "      <td>501.214</td>\n",
       "    </tr>\n",
       "    <tr>\n",
       "      <th>18</th>\n",
       "      <td>Curvelo</td>\n",
       "      <td>67.512</td>\n",
       "      <td>Cons.Lafaiete</td>\n",
       "      <td>102.836</td>\n",
       "      <td>Contagem</td>\n",
       "      <td>538.017</td>\n",
       "    </tr>\n",
       "    <tr>\n",
       "      <th>19</th>\n",
       "      <td>Unaí</td>\n",
       "      <td>70.033</td>\n",
       "      <td>Pouso Alegre</td>\n",
       "      <td>106.776</td>\n",
       "      <td>Belo Horizonte</td>\n",
       "      <td>2238.526</td>\n",
       "    </tr>\n",
       "  </tbody>\n",
       "</table>\n",
       "</div>"
      ],
      "text/plain": [
       "          Municípios  População       Municípios  População  \\\n",
       "0        Leopoildina     50.097          Timóteo     71.478   \n",
       "1           Pirapora     50.300    Pará de Minas     73.007   \n",
       "2        três Pontas     51.024       Patrocínio     73.130   \n",
       "3      São Francisco     51.497         Paracatu     75.216   \n",
       "4     Pedro Leopoldo     53.957       Vespasiano     76.422   \n",
       "5         Ponte Nova     55.303           Itaúna     76.862   \n",
       "6   S.Seb.do Paraíso     58.335        Caratinga     77.789   \n",
       "7            Janaúba     61.651   S.João del Rei     78.616   \n",
       "8            Formiga     62.907           Lavras     78.772   \n",
       "9           Januária     63.605            Araxá     78.997   \n",
       "10        Cataguases     63.980          Itajubá     84.135   \n",
       "11         Nova Lima     64.387              Ubá     85.065   \n",
       "12            Viçosa     64.854        Ituiutaba     89.091   \n",
       "13     Três Corações     65.291           Muriaé     92.101   \n",
       "14        Ouro Preto     66.277           Passos     97.211   \n",
       "15    João Monlevade     66.690  Cor. Fabriciano     97.451   \n",
       "16           Alfenas     66.957          Itabira     98.322   \n",
       "17          Manhuaçu     67.123         Araguari    101.974   \n",
       "18           Curvelo     67.512    Cons.Lafaiete    102.836   \n",
       "19              Unaí     70.033     Pouso Alegre    106.776   \n",
       "\n",
       "            Municípios  População  \n",
       "0             Varginha    108.998  \n",
       "1            Barbacena    114.126  \n",
       "2               Sabará    115.352  \n",
       "3       Patos de Minas    123.881  \n",
       "4        Teófilo Otoni    129.424  \n",
       "5              Ibirité    133.044  \n",
       "6      Poços de Caldas    135.627  \n",
       "7          Divinópolis    183.962  \n",
       "8          Sete Lagoas    184.871  \n",
       "9          Santa Luzia    184.903  \n",
       "10            Ipatinga    212.496  \n",
       "11  Ribeirão das Neves    246.846  \n",
       "12       Gov.Valadares    247.131  \n",
       "13             Uberaba    252.051  \n",
       "14               Betim    306.675  \n",
       "15       Montes Claros    306.947  \n",
       "16        Juiz de Fora    456.796  \n",
       "17          Uberlândia    501.214  \n",
       "18            Contagem    538.017  \n",
       "19      Belo Horizonte   2238.526  "
      ]
     },
     "execution_count": 195,
     "metadata": {},
     "output_type": "execute_result"
    }
   ],
   "source": [
    "df12 = pd.concat([df9, df10, df11], axis=1)\n",
    "df12"
   ]
  },
  {
   "cell_type": "code",
   "execution_count": 196,
   "metadata": {},
   "outputs": [
    {
     "data": {
      "text/plain": [
       "array([56,  3,  0,  0,  0,  0,  1])"
      ]
     },
     "execution_count": 196,
     "metadata": {},
     "output_type": "execute_result"
    }
   ],
   "source": [
    "fi, m_classes = np.histogram(df12['População'], bins='sturges')\n",
    "fi"
   ]
  },
  {
   "cell_type": "code",
   "execution_count": 197,
   "metadata": {},
   "outputs": [
    {
     "data": {
      "text/plain": [
       "array([280.,  15.,   0.,   0.,   0.,   0.,   5.])"
      ]
     },
     "execution_count": 197,
     "metadata": {},
     "output_type": "execute_result"
    }
   ],
   "source": [
    "fr = fi*100/len(df12['População'])\n",
    "fr"
   ]
  },
  {
   "cell_type": "code",
   "execution_count": 198,
   "metadata": {},
   "outputs": [
    {
     "data": {
      "text/plain": [
       "array([56, 59, 59, 59, 59, 59, 60])"
      ]
     },
     "execution_count": 198,
     "metadata": {},
     "output_type": "execute_result"
    }
   ],
   "source": [
    "Fa = fi.cumsum()\n",
    "Fa"
   ]
  },
  {
   "cell_type": "code",
   "execution_count": 202,
   "metadata": {},
   "outputs": [
    {
     "data": {
      "text/plain": [
       "array([280., 295., 295., 295., 295., 295., 300.])"
      ]
     },
     "execution_count": 202,
     "metadata": {},
     "output_type": "execute_result"
    }
   ],
   "source": [
    "F = fr.cumsum()\n",
    "F"
   ]
  },
  {
   "cell_type": "code",
   "execution_count": 204,
   "metadata": {},
   "outputs": [
    {
     "data": {
      "text/plain": [
       "['50.097 |-- 362.73',\n",
       " '362.73 |-- 675.362',\n",
       " '675.362 |-- 987.995',\n",
       " '987.995 |-- 1300.628',\n",
       " '1300.628 |-- 1613.261',\n",
       " '1613.261 |-- 1925.893',\n",
       " '1925.893 |-- 2238.526']"
      ]
     },
     "execution_count": 204,
     "metadata": {},
     "output_type": "execute_result"
    }
   ],
   "source": [
    "classe = []\n",
    "for i in range(len(m_classes)):\n",
    "    if i <= len(m_classes)-2:\n",
    "        a = str(round(m_classes[i],3))\n",
    "        b = str(round(m_classes[i+1],3))\n",
    "    else:\n",
    "        break\n",
    "    classe.append(a+' |-- '+b)\n",
    "\n",
    "classe"
   ]
  },
  {
   "cell_type": "code",
   "execution_count": 205,
   "metadata": {},
   "outputs": [
    {
     "data": {
      "text/html": [
       "<div>\n",
       "<style scoped>\n",
       "    .dataframe tbody tr th:only-of-type {\n",
       "        vertical-align: middle;\n",
       "    }\n",
       "\n",
       "    .dataframe tbody tr th {\n",
       "        vertical-align: top;\n",
       "    }\n",
       "\n",
       "    .dataframe thead th {\n",
       "        text-align: right;\n",
       "    }\n",
       "</style>\n",
       "<table border=\"1\" class=\"dataframe\">\n",
       "  <thead>\n",
       "    <tr style=\"text-align: right;\">\n",
       "      <th></th>\n",
       "      <th>População (em 1000 hab.)</th>\n",
       "      <th>Frequencia Absoluta</th>\n",
       "      <th>Frequencia Relativa</th>\n",
       "      <th>Acumulada Absoluta</th>\n",
       "      <th>Acumulada Relativa</th>\n",
       "    </tr>\n",
       "  </thead>\n",
       "  <tbody>\n",
       "    <tr>\n",
       "      <th>0</th>\n",
       "      <td>50.097 |-- 362.73</td>\n",
       "      <td>56</td>\n",
       "      <td>280.0</td>\n",
       "      <td>56</td>\n",
       "      <td>280.0</td>\n",
       "    </tr>\n",
       "    <tr>\n",
       "      <th>1</th>\n",
       "      <td>362.73 |-- 675.362</td>\n",
       "      <td>3</td>\n",
       "      <td>15.0</td>\n",
       "      <td>59</td>\n",
       "      <td>295.0</td>\n",
       "    </tr>\n",
       "    <tr>\n",
       "      <th>2</th>\n",
       "      <td>675.362 |-- 987.995</td>\n",
       "      <td>0</td>\n",
       "      <td>0.0</td>\n",
       "      <td>59</td>\n",
       "      <td>295.0</td>\n",
       "    </tr>\n",
       "    <tr>\n",
       "      <th>3</th>\n",
       "      <td>987.995 |-- 1300.628</td>\n",
       "      <td>0</td>\n",
       "      <td>0.0</td>\n",
       "      <td>59</td>\n",
       "      <td>295.0</td>\n",
       "    </tr>\n",
       "    <tr>\n",
       "      <th>4</th>\n",
       "      <td>1300.628 |-- 1613.261</td>\n",
       "      <td>0</td>\n",
       "      <td>0.0</td>\n",
       "      <td>59</td>\n",
       "      <td>295.0</td>\n",
       "    </tr>\n",
       "    <tr>\n",
       "      <th>5</th>\n",
       "      <td>1613.261 |-- 1925.893</td>\n",
       "      <td>0</td>\n",
       "      <td>0.0</td>\n",
       "      <td>59</td>\n",
       "      <td>295.0</td>\n",
       "    </tr>\n",
       "    <tr>\n",
       "      <th>6</th>\n",
       "      <td>1925.893 |-- 2238.526</td>\n",
       "      <td>1</td>\n",
       "      <td>5.0</td>\n",
       "      <td>60</td>\n",
       "      <td>300.0</td>\n",
       "    </tr>\n",
       "  </tbody>\n",
       "</table>\n",
       "</div>"
      ],
      "text/plain": [
       "  População (em 1000 hab.)  Frequencia Absoluta  Frequencia Relativa  \\\n",
       "0        50.097 |-- 362.73                   56                280.0   \n",
       "1       362.73 |-- 675.362                    3                 15.0   \n",
       "2      675.362 |-- 987.995                    0                  0.0   \n",
       "3     987.995 |-- 1300.628                    0                  0.0   \n",
       "4    1300.628 |-- 1613.261                    0                  0.0   \n",
       "5    1613.261 |-- 1925.893                    0                  0.0   \n",
       "6    1925.893 |-- 2238.526                    1                  5.0   \n",
       "\n",
       "   Acumulada Absoluta  Acumulada Relativa  \n",
       "0                  56               280.0  \n",
       "1                  59               295.0  \n",
       "2                  59               295.0  \n",
       "3                  59               295.0  \n",
       "4                  59               295.0  \n",
       "5                  59               295.0  \n",
       "6                  60               300.0  "
      ]
     },
     "execution_count": 205,
     "metadata": {},
     "output_type": "execute_result"
    }
   ],
   "source": [
    "df13 = pd.DataFrame({'População (em 1000 hab.)' : classe, \n",
    "                     'Frequencia Absoluta': fi, \n",
    "                     'Frequencia Relativa': fr, \n",
    "                     'Acumulada Absoluta': Fa,\n",
    "                     'Acumulada Relativa': F})\n",
    "df13"
   ]
  },
  {
   "cell_type": "markdown",
   "metadata": {},
   "source": [
    "#### Exercicio 2.4"
   ]
  },
  {
   "cell_type": "code",
   "execution_count": 206,
   "metadata": {},
   "outputs": [
    {
     "data": {
      "text/html": [
       "<div>\n",
       "<style scoped>\n",
       "    .dataframe tbody tr th:only-of-type {\n",
       "        vertical-align: middle;\n",
       "    }\n",
       "\n",
       "    .dataframe tbody tr th {\n",
       "        vertical-align: top;\n",
       "    }\n",
       "\n",
       "    .dataframe thead th {\n",
       "        text-align: right;\n",
       "    }\n",
       "</style>\n",
       "<table border=\"1\" class=\"dataframe\">\n",
       "  <thead>\n",
       "    <tr style=\"text-align: right;\">\n",
       "      <th></th>\n",
       "      <th>Ano</th>\n",
       "      <th>INPC (%)</th>\n",
       "    </tr>\n",
       "  </thead>\n",
       "  <tbody>\n",
       "    <tr>\n",
       "      <th>0</th>\n",
       "      <td>1995</td>\n",
       "      <td>22.0</td>\n",
       "    </tr>\n",
       "    <tr>\n",
       "      <th>1</th>\n",
       "      <td>1996</td>\n",
       "      <td>9.1</td>\n",
       "    </tr>\n",
       "    <tr>\n",
       "      <th>2</th>\n",
       "      <td>1997</td>\n",
       "      <td>4.3</td>\n",
       "    </tr>\n",
       "    <tr>\n",
       "      <th>3</th>\n",
       "      <td>1998</td>\n",
       "      <td>2.5</td>\n",
       "    </tr>\n",
       "    <tr>\n",
       "      <th>4</th>\n",
       "      <td>1999</td>\n",
       "      <td>8.4</td>\n",
       "    </tr>\n",
       "    <tr>\n",
       "      <th>5</th>\n",
       "      <td>2000</td>\n",
       "      <td>5.3</td>\n",
       "    </tr>\n",
       "    <tr>\n",
       "      <th>6</th>\n",
       "      <td>2001</td>\n",
       "      <td>9.4</td>\n",
       "    </tr>\n",
       "    <tr>\n",
       "      <th>7</th>\n",
       "      <td>2002</td>\n",
       "      <td>14.7</td>\n",
       "    </tr>\n",
       "    <tr>\n",
       "      <th>8</th>\n",
       "      <td>2003</td>\n",
       "      <td>10.4</td>\n",
       "    </tr>\n",
       "    <tr>\n",
       "      <th>9</th>\n",
       "      <td>2004</td>\n",
       "      <td>6.1</td>\n",
       "    </tr>\n",
       "    <tr>\n",
       "      <th>10</th>\n",
       "      <td>2005</td>\n",
       "      <td>5.1</td>\n",
       "    </tr>\n",
       "  </tbody>\n",
       "</table>\n",
       "</div>"
      ],
      "text/plain": [
       "     Ano  INPC (%)\n",
       "0   1995      22.0\n",
       "1   1996       9.1\n",
       "2   1997       4.3\n",
       "3   1998       2.5\n",
       "4   1999       8.4\n",
       "5   2000       5.3\n",
       "6   2001       9.4\n",
       "7   2002      14.7\n",
       "8   2003      10.4\n",
       "9   2004       6.1\n",
       "10  2005       5.1"
      ]
     },
     "execution_count": 206,
     "metadata": {},
     "output_type": "execute_result"
    }
   ],
   "source": [
    "anos = np.arange(1995, 2006)\n",
    "INPC = [22.0, 9.1, 4.3, 2.5, 8.4, 5.3, 9.4, 14.7, 10.4, 6.1, 5.1]\n",
    "df14 = pd.DataFrame({'Ano': anos, 'INPC (%)': INPC})\n",
    "df14"
   ]
  },
  {
   "cell_type": "code",
   "execution_count": 232,
   "metadata": {},
   "outputs": [
    {
     "data": {
      "text/plain": [
       "Text(0.5, 1.0, 'Inflação Brasileira')"
      ]
     },
     "execution_count": 232,
     "metadata": {},
     "output_type": "execute_result"
    },
    {
     "data": {
      "image/png": "[encoded data removed]",
      "text/plain": [
       "<Figure size 432x288 with 1 Axes>"
      ]
     },
     "metadata": {
      "needs_background": "light"
     },
     "output_type": "display_data"
    }
   ],
   "source": [
    "df14.plot('Ano', 'INPC (%)', marker='o')\n",
    "plt.xlabel(\"Anos\")\n",
    "plt.ylabel(\"INPC\")\n",
    "plt.grid(c='g', ls=':')\n",
    "plt.title(\"Inflação Brasileira\")"
   ]
  }
 ],
 "metadata": {
  "kernelspec": {
   "display_name": "Python 3",
   "language": "python",
   "name": "python3"
  },
  "language_info": {
   "codemirror_mode": {
    "name": "ipython",
    "version": 3
   },
   "file_extension": ".py",
   "mimetype": "text/x-python",
   "name": "python",
   "nbconvert_exporter": "python",
   "pygments_lexer": "ipython3",
   "version": "3.7.1"
  }
 },
 "nbformat": 4,
 "nbformat_minor": 2
}
