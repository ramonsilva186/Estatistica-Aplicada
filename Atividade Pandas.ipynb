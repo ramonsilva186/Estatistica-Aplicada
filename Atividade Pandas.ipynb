{
 "cells": [
  {
   "cell_type": "code",
   "execution_count": 1,
   "metadata": {},
   "outputs": [],
   "source": [
    "import pandas as pd\n",
    "import numpy as np "
   ]
  },
  {
   "cell_type": "markdown",
   "metadata": {},
   "source": [
    "## Exercicio 1"
   ]
  },
  {
   "cell_type": "code",
   "execution_count": null,
   "metadata": {},
   "outputs": [],
   "source": [
    "# lista aceita varios tipos num 'array', como tipos inteiros, floats e strings numa só lista.\n",
    "# O array Numpy aceita um tipo só, \"um ou o outro\" \n",
    "# O Dicionario, aceita varios tipos e ele acessa seus valores a partir de suas respectivas chaves\n",
    "# A Series tem apenas uma coluna, na verdade duas, a primeira que é o indice(index), e a segunda é o dado(s)."
   ]
  },
  {
   "cell_type": "markdown",
   "metadata": {},
   "source": [
    "## Exercicio 2"
   ]
  },
  {
   "cell_type": "code",
   "execution_count": 3,
   "metadata": {},
   "outputs": [
    {
     "name": "stdout",
     "output_type": "stream",
     "text": [
      "0    5\n",
      "1    6\n",
      "2    8\n",
      "3   -3\n",
      "4    9\n",
      "dtype: int64 \n",
      "\n",
      "Campeão     Flamengo\n",
      "Vice           Vasco\n",
      "Terceiro       Bangu\n",
      "dtype: object \n",
      "\n",
      "0    0.366279\n",
      "2    0.613454\n",
      "4    0.369408\n",
      "6    0.699041\n",
      "dtype: float64 \n",
      "\n",
      "a   -9\n",
      "b   -9\n",
      "c   -9\n",
      "d   -9\n",
      "dtype: int64\n"
     ]
    }
   ],
   "source": [
    "s1 = pd.Series (data = [5, 6, 8, -3, 9]) # COMO N ESPECIFICOU OS INDICES SERAO DE [0, ATÉ DATA-1]\n",
    "print (s1, '\\n')\n",
    "\n",
    "d = {'Campeão': 'Flamengo', 'Vice':'Vasco', 'Terceiro':'Bangu'} # CRIA UM DICIONARIO \n",
    "s2 = pd.Series(d) #CRIA O SERIES A PARTIR DO DICIONARIO\n",
    "print (s2, '\\n')\n",
    "\n",
    "dados = np.random.random(4) #DADOS ALEATORIOS, DE 0 A 4, LOGO 5 ELEMENTOS/VALORES \n",
    "indices = np.arange(0, 8, 2) # CRIA OS INDICES\n",
    "s3 = pd.Series(data = dados, index = indices) # CRIA O SERIES A PARTIR DOS DADOS E INDICES CRIADOS ANTERIORMENTE\n",
    "print(s3, '\\n')\n",
    "\n",
    "s4 = pd.Series(-9, index=['a', 'b', 'c', 'd']) # -9 É O DATA, E LOGO DEPOIS ELE ESPECIFICA OS INDICES QUE O SERIES VAI TER\n",
    "print (s4)"
   ]
  },
  {
   "cell_type": "markdown",
   "metadata": {},
   "source": [
    "## Exercicio 3"
   ]
  },
  {
   "cell_type": "code",
   "execution_count": null,
   "metadata": {},
   "outputs": [],
   "source": [
    "# Na nomeclatura da funçao, como argumento so dizer \"index =\", e falar quais indices voce quer utilizar, se não expexificar o indices ele coloca como padrão um array de[0, até qtd do data - 1]"
   ]
  },
  {
   "cell_type": "markdown",
   "metadata": {},
   "source": [
    "## Exercicio 4"
   ]
  },
  {
   "cell_type": "code",
   "execution_count": 26,
   "metadata": {},
   "outputs": [
    {
     "data": {
      "text/plain": [
       "a     R\n",
       "b    -9\n",
       "c    -9\n",
       "d    -9\n",
       "dtype: object"
      ]
     },
     "execution_count": 26,
     "metadata": {},
     "output_type": "execute_result"
    }
   ],
   "source": [
    "s4['a'] = 'R'\n",
    "s4"
   ]
  },
  {
   "cell_type": "code",
   "execution_count": 4,
   "metadata": {},
   "outputs": [
    {
     "name": "stdout",
     "output_type": "stream",
     "text": [
      "  Times Paulistas Times Cariocas Times Ruins\n",
      "0       São Paulo       Flamengo   Palmeiras\n",
      "1          Santos     Fluminense       Vasco\n",
      "2     Corinthians       Botafogo        Remo \n",
      "\n",
      "         24        28        26\n",
      "0  0.948306  0.878347  0.678463\n",
      "1  0.170764  0.263123  0.309795\n",
      "2  0.862642  0.833153  0.686111\n",
      "3  0.486674  0.177593  0.266973\n",
      "4  0.479268  0.679650  0.287885 \n",
      "\n",
      "   A  B  C\n",
      "2  9  3  6\n",
      "3  6  2  9\n",
      "4  6  1  6\n"
     ]
    }
   ],
   "source": [
    "d = {'Times Paulistas': ['São Paulo', 'Santos', 'Corinthians'],\n",
    " 'Times Cariocas': ['Flamengo', 'Fluminense', 'Botafogo'],\n",
    " 'Times Ruins': ['Palmeiras', 'Vasco', 'Remo']}\n",
    "df = pd.DataFrame(d)\n",
    "print(df, '\\n')\n",
    "\n",
    "dados = np.random.random((5,3))\n",
    "df2 = pd.DataFrame(data = dados, index = np.arange(5), columns = np.random.randint(1, 100, 3))\n",
    "print (df2, '\\n')\n",
    "\n",
    "listas = [[9,3,6], [6,2,9], [6,1,6]]\n",
    "df3 = pd.DataFrame(listas, index = (2,3,4), columns = ['A', 'B', 'C'])\n",
    "print (df3)"
   ]
  },
  {
   "cell_type": "markdown",
   "metadata": {},
   "source": [
    "## Exercicio 5"
   ]
  },
  {
   "cell_type": "code",
   "execution_count": 8,
   "metadata": {},
   "outputs": [
    {
     "data": {
      "text/html": [
       "<div>\n",
       "<style scoped>\n",
       "    .dataframe tbody tr th:only-of-type {\n",
       "        vertical-align: middle;\n",
       "    }\n",
       "\n",
       "    .dataframe tbody tr th {\n",
       "        vertical-align: top;\n",
       "    }\n",
       "\n",
       "    .dataframe thead th {\n",
       "        text-align: right;\n",
       "    }\n",
       "</style>\n",
       "<table border=\"1\" class=\"dataframe\">\n",
       "  <thead>\n",
       "    <tr style=\"text-align: right;\">\n",
       "      <th></th>\n",
       "      <th>A</th>\n",
       "      <th>B</th>\n",
       "      <th>C</th>\n",
       "    </tr>\n",
       "  </thead>\n",
       "  <tbody>\n",
       "    <tr>\n",
       "      <th>2</th>\n",
       "      <td>T</td>\n",
       "      <td>3</td>\n",
       "      <td>6</td>\n",
       "    </tr>\n",
       "    <tr>\n",
       "      <th>3</th>\n",
       "      <td>O</td>\n",
       "      <td>2</td>\n",
       "      <td>9</td>\n",
       "    </tr>\n",
       "    <tr>\n",
       "      <th>4</th>\n",
       "      <td>P</td>\n",
       "      <td>1</td>\n",
       "      <td>6</td>\n",
       "    </tr>\n",
       "  </tbody>\n",
       "</table>\n",
       "</div>"
      ],
      "text/plain": [
       "   A  B  C\n",
       "2  T  3  6\n",
       "3  O  2  9\n",
       "4  P  1  6"
      ]
     },
     "execution_count": 8,
     "metadata": {},
     "output_type": "execute_result"
    }
   ],
   "source": [
    "df3['A'] = ['T', 'O', 'P']\n",
    "df3"
   ]
  },
  {
   "cell_type": "code",
   "execution_count": 13,
   "metadata": {},
   "outputs": [
    {
     "data": {
      "text/html": [
       "<div>\n",
       "<style scoped>\n",
       "    .dataframe tbody tr th:only-of-type {\n",
       "        vertical-align: middle;\n",
       "    }\n",
       "\n",
       "    .dataframe tbody tr th {\n",
       "        vertical-align: top;\n",
       "    }\n",
       "\n",
       "    .dataframe thead th {\n",
       "        text-align: right;\n",
       "    }\n",
       "</style>\n",
       "<table border=\"1\" class=\"dataframe\">\n",
       "  <thead>\n",
       "    <tr style=\"text-align: right;\">\n",
       "      <th></th>\n",
       "      <th>A</th>\n",
       "      <th>B</th>\n",
       "      <th>C</th>\n",
       "    </tr>\n",
       "  </thead>\n",
       "  <tbody>\n",
       "    <tr>\n",
       "      <th>4</th>\n",
       "      <td>T</td>\n",
       "      <td>3</td>\n",
       "      <td>6</td>\n",
       "    </tr>\n",
       "    <tr>\n",
       "      <th>5</th>\n",
       "      <td>O</td>\n",
       "      <td>2</td>\n",
       "      <td>9</td>\n",
       "    </tr>\n",
       "    <tr>\n",
       "      <th>6</th>\n",
       "      <td>P</td>\n",
       "      <td>1</td>\n",
       "      <td>6</td>\n",
       "    </tr>\n",
       "  </tbody>\n",
       "</table>\n",
       "</div>"
      ],
      "text/plain": [
       "   A  B  C\n",
       "4  T  3  6\n",
       "5  O  2  9\n",
       "6  P  1  6"
      ]
     },
     "execution_count": 13,
     "metadata": {},
     "output_type": "execute_result"
    }
   ],
   "source": [
    "df3.index = [4,5,6]\n",
    "df3"
   ]
  },
  {
   "cell_type": "code",
   "execution_count": 15,
   "metadata": {},
   "outputs": [
    {
     "data": {
      "text/html": [
       "<div>\n",
       "<style scoped>\n",
       "    .dataframe tbody tr th:only-of-type {\n",
       "        vertical-align: middle;\n",
       "    }\n",
       "\n",
       "    .dataframe tbody tr th {\n",
       "        vertical-align: top;\n",
       "    }\n",
       "\n",
       "    .dataframe thead th {\n",
       "        text-align: right;\n",
       "    }\n",
       "</style>\n",
       "<table border=\"1\" class=\"dataframe\">\n",
       "  <thead>\n",
       "    <tr style=\"text-align: right;\">\n",
       "      <th></th>\n",
       "      <th>Coluna 1</th>\n",
       "      <th>Coluna 2</th>\n",
       "      <th>Coluna 3</th>\n",
       "    </tr>\n",
       "  </thead>\n",
       "  <tbody>\n",
       "    <tr>\n",
       "      <th>4</th>\n",
       "      <td>T</td>\n",
       "      <td>3</td>\n",
       "      <td>6</td>\n",
       "    </tr>\n",
       "    <tr>\n",
       "      <th>5</th>\n",
       "      <td>O</td>\n",
       "      <td>2</td>\n",
       "      <td>9</td>\n",
       "    </tr>\n",
       "    <tr>\n",
       "      <th>6</th>\n",
       "      <td>P</td>\n",
       "      <td>1</td>\n",
       "      <td>6</td>\n",
       "    </tr>\n",
       "  </tbody>\n",
       "</table>\n",
       "</div>"
      ],
      "text/plain": [
       "  Coluna 1  Coluna 2  Coluna 3\n",
       "4        T         3         6\n",
       "5        O         2         9\n",
       "6        P         1         6"
      ]
     },
     "execution_count": 15,
     "metadata": {},
     "output_type": "execute_result"
    }
   ],
   "source": [
    "df3.columns = ['Coluna 1', 'Coluna 2', 'Coluna 3']\n",
    "df3"
   ]
  },
  {
   "cell_type": "code",
   "execution_count": 29,
   "metadata": {},
   "outputs": [
    {
     "data": {
      "text/plain": [
       "0           NaN\n",
       "1           NaN\n",
       "2           NaN\n",
       "3           NaN\n",
       "4           NaN\n",
       "Campeão     NaN\n",
       "Vice        NaN\n",
       "Terceiro    NaN\n",
       "dtype: object"
      ]
     },
     "execution_count": 29,
     "metadata": {},
     "output_type": "execute_result"
    }
   ],
   "source": [
    "s3 = s1+s2\n",
    "s3"
   ]
  }
 ],
 "metadata": {
  "kernelspec": {
   "display_name": "Python 3",
   "language": "python",
   "name": "python3"
  },
  "language_info": {
   "codemirror_mode": {
    "name": "ipython",
    "version": 3
   },
   "file_extension": ".py",
   "mimetype": "text/x-python",
   "name": "python",
   "nbconvert_exporter": "python",
   "pygments_lexer": "ipython3",
   "version": "3.7.1"
  }
 },
 "nbformat": 4,
 "nbformat_minor": 2
}
